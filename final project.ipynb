{
 "cells": [
  {
   "cell_type": "code",
   "execution_count": 3,
   "metadata": {
    "colab": {
     "base_uri": "https://localhost:8080/"
    },
    "execution": {
     "iopub.execute_input": "2023-07-06T00:58:48.393632Z",
     "iopub.status.busy": "2023-07-06T00:58:48.393231Z",
     "iopub.status.idle": "2023-07-06T00:58:50.074454Z",
     "shell.execute_reply": "2023-07-06T00:58:50.073465Z",
     "shell.execute_reply.started": "2023-07-06T00:58:48.393601Z"
    },
    "id": "Yp_Ev6kjv0wW",
    "outputId": "4547e9a3-5048-4f7c-a071-a99c4f7abf85"
   },
   "outputs": [
    {
     "name": "stderr",
     "output_type": "stream",
     "text": [
      "C:\\Users\\20155\\anaconda3\\lib\\site-packages\\scipy\\__init__.py:146: UserWarning: A NumPy version >=1.16.5 and <1.23.0 is required for this version of SciPy (detected version 1.25.0\n",
      "  warnings.warn(f\"A NumPy version >={np_minversion} and <{np_maxversion}\"\n",
      "[nltk_data] Downloading package stopwords to\n",
      "[nltk_data]     C:\\Users\\20155\\AppData\\Roaming\\nltk_data...\n",
      "[nltk_data]   Package stopwords is already up-to-date!\n"
     ]
    }
   ],
   "source": [
    "import numpy as np\n",
    "import pandas as pd\n",
    "import seaborn as sns\n",
    "import matplotlib.pyplot as plt\n",
    "import warnings\n",
    "import string\n",
    "import nltk\n",
    "nltk.download('stopwords')\n",
    "from nltk import word_tokenize\n",
    "from nltk.stem import PorterStemmer\n",
    "from tqdm import tqdm\n",
    "warnings.filterwarnings('ignore')\n",
    "!pip install gradio\n",
    "import gradio as gr"
   ]
  },
  {
   "cell_type": "code",
   "execution_count": 4,
   "metadata": {
    "execution": {
     "iopub.execute_input": "2023-07-06T00:58:54.785986Z",
     "iopub.status.busy": "2023-07-06T00:58:54.785609Z",
     "iopub.status.idle": "2023-07-06T00:58:54.831572Z",
     "shell.execute_reply": "2023-07-06T00:58:54.830550Z",
     "shell.execute_reply.started": "2023-07-06T00:58:54.785959Z"
    },
    "id": "M0MJy02AG_Hu"
   },
   "outputs": [],
   "source": [
    "df=pd.read_json('labeled_validation_dataset.jsonl',lines=True)"
   ]
  },
  {
   "cell_type": "code",
   "execution_count": 5,
   "metadata": {
    "colab": {
     "base_uri": "https://localhost:8080/",
     "height": 250
    },
    "execution": {
     "iopub.execute_input": "2023-07-06T00:58:57.578662Z",
     "iopub.status.busy": "2023-07-06T00:58:57.578295Z",
     "iopub.status.idle": "2023-07-06T00:58:57.596916Z",
     "shell.execute_reply": "2023-07-06T00:58:57.595542Z",
     "shell.execute_reply.started": "2023-07-06T00:58:57.578626Z"
    },
    "id": "JcoKS56iHN6S",
    "outputId": "f6e8743a-eef0-40b5-b2e0-686755789db0"
   },
   "outputs": [
    {
     "data": {
      "text/html": [
       "<div>\n",
       "<style scoped>\n",
       "    .dataframe tbody tr th:only-of-type {\n",
       "        vertical-align: middle;\n",
       "    }\n",
       "\n",
       "    .dataframe tbody tr th {\n",
       "        vertical-align: top;\n",
       "    }\n",
       "\n",
       "    .dataframe thead th {\n",
       "        text-align: right;\n",
       "    }\n",
       "</style>\n",
       "<table border=\"1\" class=\"dataframe\">\n",
       "  <thead>\n",
       "    <tr style=\"text-align: right;\">\n",
       "      <th></th>\n",
       "      <th>example_id</th>\n",
       "      <th>paragraph</th>\n",
       "      <th>summary</th>\n",
       "    </tr>\n",
       "  </thead>\n",
       "  <tbody>\n",
       "    <tr>\n",
       "      <th>0</th>\n",
       "      <td>0</td>\n",
       "      <td>وتحت عنوان من الكارثة إلى التحدى يبدأ الكاتب ع...</td>\n",
       "      <td>يبدأ الكاتب عرض الكتاب الرابع تحت عنوان من الك...</td>\n",
       "    </tr>\n",
       "    <tr>\n",
       "      <th>1</th>\n",
       "      <td>1</td>\n",
       "      <td>ولم يعترف دبلوماسيو هاتين الدولتين بالعريضة ال...</td>\n",
       "      <td>دبلوماسيو الدولتين لم يعترفوا بالعريضة التي قا...</td>\n",
       "    </tr>\n",
       "    <tr>\n",
       "      <th>2</th>\n",
       "      <td>2</td>\n",
       "      <td>قامت ولاية حلب بعد اعلان الجنرال الفرنسي هنري ...</td>\n",
       "      <td>أعلن غورو الانتداب الفرنسي على سوريا لكي يعاقب...</td>\n",
       "    </tr>\n",
       "    <tr>\n",
       "      <th>3</th>\n",
       "      <td>3</td>\n",
       "      <td>دولة مصر العربيه هي ليست اي دوله وليست اي شعب ...</td>\n",
       "      <td>مصر هي أم البلاد، وقائدة العرب؛ فهي أرض بلاد ا...</td>\n",
       "    </tr>\n",
       "    <tr>\n",
       "      <th>4</th>\n",
       "      <td>4</td>\n",
       "      <td>السوريون يصرون على استقلال بلادهم : و مثلما رف...</td>\n",
       "      <td>الشعب السوري يصر على استقلال بلدهم من السيطرة ...</td>\n",
       "    </tr>\n",
       "    <tr>\n",
       "      <th>...</th>\n",
       "      <td>...</td>\n",
       "      <td>...</td>\n",
       "      <td>...</td>\n",
       "    </tr>\n",
       "    <tr>\n",
       "      <th>149</th>\n",
       "      <td>149</td>\n",
       "      <td>حزب الوفد سيحتفل بمئوية ثورة 1919 يوم 9 مارس ا...</td>\n",
       "      <td>احتفال مئوية ثورة 1919 كان من منطلق وطني ليس ح...</td>\n",
       "    </tr>\n",
       "    <tr>\n",
       "      <th>150</th>\n",
       "      <td>150</td>\n",
       "      <td>حيث أعلن مجلس قيادة الثورة في 18 يونيه 1953 قي...</td>\n",
       "      <td>مجلس قيادة الثورة أعلن عن قيام الجمهورية المصر...</td>\n",
       "    </tr>\n",
       "    <tr>\n",
       "      <th>151</th>\n",
       "      <td>151</td>\n",
       "      <td>وبرغم أن عبد الرحمن فهمي كان يضم في ذلك الجهاز...</td>\n",
       "      <td>ضم عبد الرحمن فهمي في الجهاز السري عدد كبير من...</td>\n",
       "    </tr>\n",
       "    <tr>\n",
       "      <th>152</th>\n",
       "      <td>152</td>\n",
       "      <td>ولم تقتصر مقومات بورسعيد كمدينة عالمية منذ نشأ...</td>\n",
       "      <td>امتدت بورسعيد لكي تشمل الطابع الثقافي للمدينة،...</td>\n",
       "    </tr>\n",
       "    <tr>\n",
       "      <th>153</th>\n",
       "      <td>153</td>\n",
       "      <td>أول رئيس للجزائر بعد الاستقلال الرئيس أحمد بن ...</td>\n",
       "      <td>كان أحمد بن بيلا أول رئيس للجزائر بعد الاستقلا...</td>\n",
       "    </tr>\n",
       "  </tbody>\n",
       "</table>\n",
       "<p>154 rows × 3 columns</p>\n",
       "</div>"
      ],
      "text/plain": [
       "     example_id                                          paragraph  \\\n",
       "0             0  وتحت عنوان من الكارثة إلى التحدى يبدأ الكاتب ع...   \n",
       "1             1  ولم يعترف دبلوماسيو هاتين الدولتين بالعريضة ال...   \n",
       "2             2  قامت ولاية حلب بعد اعلان الجنرال الفرنسي هنري ...   \n",
       "3             3  دولة مصر العربيه هي ليست اي دوله وليست اي شعب ...   \n",
       "4             4  السوريون يصرون على استقلال بلادهم : و مثلما رف...   \n",
       "..          ...                                                ...   \n",
       "149         149  حزب الوفد سيحتفل بمئوية ثورة 1919 يوم 9 مارس ا...   \n",
       "150         150  حيث أعلن مجلس قيادة الثورة في 18 يونيه 1953 قي...   \n",
       "151         151  وبرغم أن عبد الرحمن فهمي كان يضم في ذلك الجهاز...   \n",
       "152         152  ولم تقتصر مقومات بورسعيد كمدينة عالمية منذ نشأ...   \n",
       "153         153  أول رئيس للجزائر بعد الاستقلال الرئيس أحمد بن ...   \n",
       "\n",
       "                                               summary  \n",
       "0    يبدأ الكاتب عرض الكتاب الرابع تحت عنوان من الك...  \n",
       "1    دبلوماسيو الدولتين لم يعترفوا بالعريضة التي قا...  \n",
       "2    أعلن غورو الانتداب الفرنسي على سوريا لكي يعاقب...  \n",
       "3    مصر هي أم البلاد، وقائدة العرب؛ فهي أرض بلاد ا...  \n",
       "4    الشعب السوري يصر على استقلال بلدهم من السيطرة ...  \n",
       "..                                                 ...  \n",
       "149  احتفال مئوية ثورة 1919 كان من منطلق وطني ليس ح...  \n",
       "150  مجلس قيادة الثورة أعلن عن قيام الجمهورية المصر...  \n",
       "151  ضم عبد الرحمن فهمي في الجهاز السري عدد كبير من...  \n",
       "152  امتدت بورسعيد لكي تشمل الطابع الثقافي للمدينة،...  \n",
       "153  كان أحمد بن بيلا أول رئيس للجزائر بعد الاستقلا...  \n",
       "\n",
       "[154 rows x 3 columns]"
      ]
     },
     "execution_count": 5,
     "metadata": {},
     "output_type": "execute_result"
    }
   ],
   "source": [
    "df"
   ]
  },
  {
   "cell_type": "code",
   "execution_count": 6,
   "metadata": {
    "execution": {
     "iopub.execute_input": "2023-07-06T00:58:58.661940Z",
     "iopub.status.busy": "2023-07-06T00:58:58.661585Z",
     "iopub.status.idle": "2023-07-06T00:58:58.672923Z",
     "shell.execute_reply": "2023-07-06T00:58:58.671791Z",
     "shell.execute_reply.started": "2023-07-06T00:58:58.661911Z"
    },
    "id": "0adW08r_HWjR"
   },
   "outputs": [],
   "source": [
    "df.drop('example_id',inplace=True,axis=1)"
   ]
  },
  {
   "cell_type": "code",
   "execution_count": 7,
   "metadata": {
    "colab": {
     "base_uri": "https://localhost:8080/",
     "height": 206
    },
    "execution": {
     "iopub.execute_input": "2023-07-06T00:59:00.244585Z",
     "iopub.status.busy": "2023-07-06T00:59:00.244196Z",
     "iopub.status.idle": "2023-07-06T00:59:00.256668Z",
     "shell.execute_reply": "2023-07-06T00:59:00.255581Z",
     "shell.execute_reply.started": "2023-07-06T00:59:00.244547Z"
    },
    "id": "ajeqfqwSHyUe",
    "outputId": "c53223ff-6faa-495a-8402-d7f3ac21af8f"
   },
   "outputs": [
    {
     "data": {
      "text/html": [
       "<div>\n",
       "<style scoped>\n",
       "    .dataframe tbody tr th:only-of-type {\n",
       "        vertical-align: middle;\n",
       "    }\n",
       "\n",
       "    .dataframe tbody tr th {\n",
       "        vertical-align: top;\n",
       "    }\n",
       "\n",
       "    .dataframe thead th {\n",
       "        text-align: right;\n",
       "    }\n",
       "</style>\n",
       "<table border=\"1\" class=\"dataframe\">\n",
       "  <thead>\n",
       "    <tr style=\"text-align: right;\">\n",
       "      <th></th>\n",
       "      <th>paragraph</th>\n",
       "      <th>summary</th>\n",
       "    </tr>\n",
       "  </thead>\n",
       "  <tbody>\n",
       "    <tr>\n",
       "      <th>0</th>\n",
       "      <td>وتحت عنوان من الكارثة إلى التحدى يبدأ الكاتب ع...</td>\n",
       "      <td>يبدأ الكاتب عرض الكتاب الرابع تحت عنوان من الك...</td>\n",
       "    </tr>\n",
       "    <tr>\n",
       "      <th>1</th>\n",
       "      <td>ولم يعترف دبلوماسيو هاتين الدولتين بالعريضة ال...</td>\n",
       "      <td>دبلوماسيو الدولتين لم يعترفوا بالعريضة التي قا...</td>\n",
       "    </tr>\n",
       "    <tr>\n",
       "      <th>2</th>\n",
       "      <td>قامت ولاية حلب بعد اعلان الجنرال الفرنسي هنري ...</td>\n",
       "      <td>أعلن غورو الانتداب الفرنسي على سوريا لكي يعاقب...</td>\n",
       "    </tr>\n",
       "    <tr>\n",
       "      <th>3</th>\n",
       "      <td>دولة مصر العربيه هي ليست اي دوله وليست اي شعب ...</td>\n",
       "      <td>مصر هي أم البلاد، وقائدة العرب؛ فهي أرض بلاد ا...</td>\n",
       "    </tr>\n",
       "    <tr>\n",
       "      <th>4</th>\n",
       "      <td>السوريون يصرون على استقلال بلادهم : و مثلما رف...</td>\n",
       "      <td>الشعب السوري يصر على استقلال بلدهم من السيطرة ...</td>\n",
       "    </tr>\n",
       "  </tbody>\n",
       "</table>\n",
       "</div>"
      ],
      "text/plain": [
       "                                           paragraph  \\\n",
       "0  وتحت عنوان من الكارثة إلى التحدى يبدأ الكاتب ع...   \n",
       "1  ولم يعترف دبلوماسيو هاتين الدولتين بالعريضة ال...   \n",
       "2  قامت ولاية حلب بعد اعلان الجنرال الفرنسي هنري ...   \n",
       "3  دولة مصر العربيه هي ليست اي دوله وليست اي شعب ...   \n",
       "4  السوريون يصرون على استقلال بلادهم : و مثلما رف...   \n",
       "\n",
       "                                             summary  \n",
       "0  يبدأ الكاتب عرض الكتاب الرابع تحت عنوان من الك...  \n",
       "1  دبلوماسيو الدولتين لم يعترفوا بالعريضة التي قا...  \n",
       "2  أعلن غورو الانتداب الفرنسي على سوريا لكي يعاقب...  \n",
       "3  مصر هي أم البلاد، وقائدة العرب؛ فهي أرض بلاد ا...  \n",
       "4  الشعب السوري يصر على استقلال بلدهم من السيطرة ...  "
      ]
     },
     "execution_count": 7,
     "metadata": {},
     "output_type": "execute_result"
    }
   ],
   "source": [
    "df.head()"
   ]
  },
  {
   "cell_type": "code",
   "execution_count": 12,
   "metadata": {
    "execution": {
     "iopub.execute_input": "2023-07-06T00:59:07.390161Z",
     "iopub.status.busy": "2023-07-06T00:59:07.389803Z",
     "iopub.status.idle": "2023-07-06T00:59:07.395811Z",
     "shell.execute_reply": "2023-07-06T00:59:07.394593Z",
     "shell.execute_reply.started": "2023-07-06T00:59:07.390135Z"
    }
   },
   "outputs": [],
   "source": [
    "arabic = '۰١٢٣٤٥٦٧٨٩'\n",
    "english = '0123456789'\n",
    "translation_table = str.maketrans( arabic,english)"
   ]
  },
  {
   "cell_type": "code",
   "execution_count": 9,
   "metadata": {},
   "outputs": [],
   "source": [
    "import re\n",
    "import regex"
   ]
  },
  {
   "cell_type": "code",
   "execution_count": 15,
   "metadata": {},
   "outputs": [],
   "source": [
    "def cleaner(text):\n",
    "    s=[]\n",
    "    for sen in tqdm(text):\n",
    "        #convert arabic numbers to en numbers\n",
    "        sen=sen.translate(translation_table)\n",
    "        #keep only arabic text\n",
    "        sen = regex.sub(r\"[^\\p{Script=Arabic}\\s.,]\", \"\", sen)\n",
    "        #remove \"ـ\"\n",
    "        sen = sen.replace(\"ـ\", \"\")\n",
    "        #remove '.' from text\n",
    "        sen = sen.replace(\".\", \"\")\n",
    "        #remove dublicated spaces\n",
    "        sen = re.sub(r\"\\s+\", \" \", sen)\n",
    "        s.append(sen)\n",
    "    return s"
   ]
  },
  {
   "cell_type": "code",
   "execution_count": 16,
   "metadata": {},
   "outputs": [
    {
     "name": "stderr",
     "output_type": "stream",
     "text": [
      "100%|██████████████████████████████████████████████████████████████████████████████| 154/154 [00:00<00:00, 9632.88it/s]\n"
     ]
    }
   ],
   "source": [
    "df['summary']=cleaner(df['summary'])"
   ]
  },
  {
   "cell_type": "code",
   "execution_count": 19,
   "metadata": {
    "execution": {
     "iopub.execute_input": "2023-07-06T00:59:07.691275Z",
     "iopub.status.busy": "2023-07-06T00:59:07.690907Z",
     "iopub.status.idle": "2023-07-06T00:59:07.950174Z",
     "shell.execute_reply": "2023-07-06T00:59:07.949129Z",
     "shell.execute_reply.started": "2023-07-06T00:59:07.691245Z"
    }
   },
   "outputs": [
    {
     "name": "stderr",
     "output_type": "stream",
     "text": [
      "100%|██████████████████████████████████████████████████████████████████████████████| 154/154 [00:00<00:00, 3019.74it/s]\n"
     ]
    }
   ],
   "source": [
    "df['paragraph']=cleaner(df['paragraph'])"
   ]
  },
  {
   "cell_type": "code",
   "execution_count": 16,
   "metadata": {
    "execution": {
     "iopub.execute_input": "2023-07-06T00:59:09.693801Z",
     "iopub.status.busy": "2023-07-06T00:59:09.692718Z",
     "iopub.status.idle": "2023-07-06T00:59:09.702617Z",
     "shell.execute_reply": "2023-07-06T00:59:09.701506Z",
     "shell.execute_reply.started": "2023-07-06T00:59:09.693759Z"
    },
    "id": "Xlv6GUzyJEuX"
   },
   "outputs": [],
   "source": [
    "from sklearn.model_selection import train_test_split\n",
    "train, val = train_test_split(df,test_size=0.1,random_state=4,shuffle=True)"
   ]
  },
  {
   "cell_type": "code",
   "execution_count": 17,
   "metadata": {
    "execution": {
     "iopub.execute_input": "2023-07-06T00:59:09.971985Z",
     "iopub.status.busy": "2023-07-06T00:59:09.971642Z",
     "iopub.status.idle": "2023-07-06T00:59:10.048374Z",
     "shell.execute_reply": "2023-07-06T00:59:10.047450Z",
     "shell.execute_reply.started": "2023-07-06T00:59:09.971958Z"
    },
    "id": "AOX7gmiEJcLT"
   },
   "outputs": [],
   "source": [
    "train.to_csv('train.csv')\n",
    "val.to_csv('val.csv')"
   ]
  },
  {
   "cell_type": "code",
   "execution_count": 18,
   "metadata": {
    "colab": {
     "base_uri": "https://localhost:8080/"
    },
    "execution": {
     "iopub.execute_input": "2023-07-06T00:59:10.396974Z",
     "iopub.status.busy": "2023-07-06T00:59:10.396177Z",
     "iopub.status.idle": "2023-07-06T01:00:09.960104Z",
     "shell.execute_reply": "2023-07-06T01:00:09.958799Z",
     "shell.execute_reply.started": "2023-07-06T00:59:10.396934Z"
    },
    "id": "DVv8rlnLvtA7",
    "outputId": "166c12c0-7653-4a97-b070-3d9c860a38fa"
   },
   "outputs": [
    {
     "name": "stdout",
     "output_type": "stream",
     "text": [
      "Cloning into 'transformers'...\n",
      "remote: Enumerating objects: 148660, done.\u001b[K\n",
      "remote: Counting objects: 100% (621/621), done.\u001b[K\n",
      "remote: Compressing objects: 100% (275/275), done.\u001b[K\n",
      "remote: Total 148660 (delta 362), reused 470 (delta 285), pack-reused 148039\u001b[K\n",
      "Receiving objects: 100% (148660/148660), 152.42 MiB | 22.18 MiB/s, done.\n",
      "Resolving deltas: 100% (110332/110332), done.\n",
      "/kaggle/working/transformers\n",
      "Processing /kaggle/working/transformers\n",
      "  Installing build dependencies ... \u001b[?25ldone\n",
      "\u001b[?25h  Getting requirements to build wheel ... \u001b[?25ldone\n",
      "\u001b[?25h  Preparing metadata (pyproject.toml) ... \u001b[?25ldone\n",
      "\u001b[?25hRequirement already satisfied: filelock in /opt/conda/lib/python3.10/site-packages (from transformers==4.31.0.dev0) (3.12.0)\n",
      "Requirement already satisfied: huggingface-hub<1.0,>=0.14.1 in /opt/conda/lib/python3.10/site-packages (from transformers==4.31.0.dev0) (0.15.1)\n",
      "Requirement already satisfied: numpy>=1.17 in /opt/conda/lib/python3.10/site-packages (from transformers==4.31.0.dev0) (1.23.5)\n",
      "Requirement already satisfied: packaging>=20.0 in /opt/conda/lib/python3.10/site-packages (from transformers==4.31.0.dev0) (21.3)\n",
      "Requirement already satisfied: pyyaml>=5.1 in /opt/conda/lib/python3.10/site-packages (from transformers==4.31.0.dev0) (5.4.1)\n",
      "Requirement already satisfied: regex!=2019.12.17 in /opt/conda/lib/python3.10/site-packages (from transformers==4.31.0.dev0) (2023.5.5)\n",
      "Requirement already satisfied: requests in /opt/conda/lib/python3.10/site-packages (from transformers==4.31.0.dev0) (2.28.2)\n",
      "Requirement already satisfied: tokenizers!=0.11.3,<0.14,>=0.11.1 in /opt/conda/lib/python3.10/site-packages (from transformers==4.31.0.dev0) (0.13.3)\n",
      "Requirement already satisfied: safetensors>=0.3.1 in /opt/conda/lib/python3.10/site-packages (from transformers==4.31.0.dev0) (0.3.1)\n",
      "Requirement already satisfied: tqdm>=4.27 in /opt/conda/lib/python3.10/site-packages (from transformers==4.31.0.dev0) (4.64.1)\n",
      "Requirement already satisfied: fsspec in /opt/conda/lib/python3.10/site-packages (from huggingface-hub<1.0,>=0.14.1->transformers==4.31.0.dev0) (2023.6.0)\n",
      "Requirement already satisfied: typing-extensions>=3.7.4.3 in /opt/conda/lib/python3.10/site-packages (from huggingface-hub<1.0,>=0.14.1->transformers==4.31.0.dev0) (4.5.0)\n",
      "Requirement already satisfied: pyparsing!=3.0.5,>=2.0.2 in /opt/conda/lib/python3.10/site-packages (from packaging>=20.0->transformers==4.31.0.dev0) (3.0.9)\n",
      "Requirement already satisfied: charset-normalizer<4,>=2 in /opt/conda/lib/python3.10/site-packages (from requests->transformers==4.31.0.dev0) (2.1.1)\n",
      "Requirement already satisfied: idna<4,>=2.5 in /opt/conda/lib/python3.10/site-packages (from requests->transformers==4.31.0.dev0) (3.4)\n",
      "Requirement already satisfied: urllib3<1.27,>=1.21.1 in /opt/conda/lib/python3.10/site-packages (from requests->transformers==4.31.0.dev0) (1.26.15)\n",
      "Requirement already satisfied: certifi>=2017.4.17 in /opt/conda/lib/python3.10/site-packages (from requests->transformers==4.31.0.dev0) (2023.5.7)\n",
      "Building wheels for collected packages: transformers\n",
      "  Building wheel for transformers (pyproject.toml) ... \u001b[?25ldone\n",
      "\u001b[?25h  Created wheel for transformers: filename=transformers-4.31.0.dev0-py3-none-any.whl size=7283429 sha256=84adb2a307f2a1f707d33bdf09e878d2f1fe5a0ae212574674b52c8a8b99435f\n",
      "  Stored in directory: /tmp/pip-ephem-wheel-cache-9zzig_n1/wheels/7e/b2/24/0b3be37b3b423a6f2fd25fd6368a1f4b0888942789c7e68bc6\n",
      "Successfully built transformers\n",
      "Installing collected packages: transformers\n",
      "  Attempting uninstall: transformers\n",
      "    Found existing installation: transformers 4.30.1\n",
      "    Uninstalling transformers-4.30.1:\n",
      "      Successfully uninstalled transformers-4.30.1\n",
      "Successfully installed transformers-4.31.0.dev0\n",
      "\u001b[33mWARNING: Running pip as the 'root' user can result in broken permissions and conflicting behaviour with the system package manager. It is recommended to use a virtual environment instead: https://pip.pypa.io/warnings/venv\u001b[0m\u001b[33m\n",
      "\u001b[0m"
     ]
    }
   ],
   "source": [
    "!git clone https://github.com/huggingface/transformers\n",
    "%cd transformers\n",
    "!pip install ."
   ]
  },
  {
   "cell_type": "code",
   "execution_count": 19,
   "metadata": {
    "colab": {
     "base_uri": "https://localhost:8080/"
    },
    "execution": {
     "iopub.execute_input": "2023-07-06T01:00:09.964969Z",
     "iopub.status.busy": "2023-07-06T01:00:09.963859Z",
     "iopub.status.idle": "2023-07-06T01:00:27.873624Z",
     "shell.execute_reply": "2023-07-06T01:00:27.872251Z",
     "shell.execute_reply.started": "2023-07-06T01:00:09.964920Z"
    },
    "id": "Ls0PrT9Mvii4",
    "outputId": "d38983b7-18bd-4f73-fcc6-097d6feadc20"
   },
   "outputs": [
    {
     "name": "stdout",
     "output_type": "stream",
     "text": [
      "Requirement already satisfied: accelerate>=0.12.0 in /opt/conda/lib/python3.10/site-packages (from -r /kaggle/working/transformers/examples/pytorch/summarization/requirements.txt (line 1)) (0.12.0)\n",
      "Requirement already satisfied: datasets>=1.8.0 in /opt/conda/lib/python3.10/site-packages (from -r /kaggle/working/transformers/examples/pytorch/summarization/requirements.txt (line 2)) (2.1.0)\n",
      "Requirement already satisfied: sentencepiece!=0.1.92 in /opt/conda/lib/python3.10/site-packages (from -r /kaggle/working/transformers/examples/pytorch/summarization/requirements.txt (line 3)) (0.1.99)\n",
      "Requirement already satisfied: protobuf in /opt/conda/lib/python3.10/site-packages (from -r /kaggle/working/transformers/examples/pytorch/summarization/requirements.txt (line 4)) (3.20.3)\n",
      "Collecting rouge-score (from -r /kaggle/working/transformers/examples/pytorch/summarization/requirements.txt (line 5))\n",
      "  Downloading rouge_score-0.1.2.tar.gz (17 kB)\n",
      "  Preparing metadata (setup.py) ... \u001b[?25ldone\n",
      "\u001b[?25hRequirement already satisfied: nltk in /opt/conda/lib/python3.10/site-packages (from -r /kaggle/working/transformers/examples/pytorch/summarization/requirements.txt (line 6)) (3.2.4)\n",
      "Collecting py7zr (from -r /kaggle/working/transformers/examples/pytorch/summarization/requirements.txt (line 7))\n",
      "  Downloading py7zr-0.20.5-py3-none-any.whl (66 kB)\n",
      "\u001b[2K     \u001b[90m━━━━━━━━━━━━━━━━━━━━━━━━━━━━━━━━━━━━━━━━\u001b[0m \u001b[32m66.4/66.4 kB\u001b[0m \u001b[31m3.1 MB/s\u001b[0m eta \u001b[36m0:00:00\u001b[0m\n",
      "\u001b[?25hRequirement already satisfied: torch>=1.3 in /opt/conda/lib/python3.10/site-packages (from -r /kaggle/working/transformers/examples/pytorch/summarization/requirements.txt (line 8)) (2.0.0)\n",
      "Collecting evaluate (from -r /kaggle/working/transformers/examples/pytorch/summarization/requirements.txt (line 9))\n",
      "  Downloading evaluate-0.4.0-py3-none-any.whl (81 kB)\n",
      "\u001b[2K     \u001b[90m━━━━━━━━━━━━━━━━━━━━━━━━━━━━━━━━━━━━━━━━\u001b[0m \u001b[32m81.4/81.4 kB\u001b[0m \u001b[31m5.1 MB/s\u001b[0m eta \u001b[36m0:00:00\u001b[0m\n",
      "\u001b[?25hRequirement already satisfied: numpy>=1.17 in /opt/conda/lib/python3.10/site-packages (from accelerate>=0.12.0->-r /kaggle/working/transformers/examples/pytorch/summarization/requirements.txt (line 1)) (1.23.5)\n",
      "Requirement already satisfied: packaging>=20.0 in /opt/conda/lib/python3.10/site-packages (from accelerate>=0.12.0->-r /kaggle/working/transformers/examples/pytorch/summarization/requirements.txt (line 1)) (21.3)\n",
      "Requirement already satisfied: psutil in /opt/conda/lib/python3.10/site-packages (from accelerate>=0.12.0->-r /kaggle/working/transformers/examples/pytorch/summarization/requirements.txt (line 1)) (5.9.3)\n",
      "Requirement already satisfied: pyyaml in /opt/conda/lib/python3.10/site-packages (from accelerate>=0.12.0->-r /kaggle/working/transformers/examples/pytorch/summarization/requirements.txt (line 1)) (5.4.1)\n",
      "Requirement already satisfied: pyarrow>=5.0.0 in /opt/conda/lib/python3.10/site-packages (from datasets>=1.8.0->-r /kaggle/working/transformers/examples/pytorch/summarization/requirements.txt (line 2)) (11.0.0)\n",
      "Requirement already satisfied: dill in /opt/conda/lib/python3.10/site-packages (from datasets>=1.8.0->-r /kaggle/working/transformers/examples/pytorch/summarization/requirements.txt (line 2)) (0.3.6)\n",
      "Requirement already satisfied: pandas in /opt/conda/lib/python3.10/site-packages (from datasets>=1.8.0->-r /kaggle/working/transformers/examples/pytorch/summarization/requirements.txt (line 2)) (1.5.3)\n",
      "Requirement already satisfied: requests>=2.19.0 in /opt/conda/lib/python3.10/site-packages (from datasets>=1.8.0->-r /kaggle/working/transformers/examples/pytorch/summarization/requirements.txt (line 2)) (2.28.2)\n",
      "Requirement already satisfied: tqdm>=4.62.1 in /opt/conda/lib/python3.10/site-packages (from datasets>=1.8.0->-r /kaggle/working/transformers/examples/pytorch/summarization/requirements.txt (line 2)) (4.64.1)\n",
      "Requirement already satisfied: xxhash in /opt/conda/lib/python3.10/site-packages (from datasets>=1.8.0->-r /kaggle/working/transformers/examples/pytorch/summarization/requirements.txt (line 2)) (3.2.0)\n",
      "Requirement already satisfied: multiprocess in /opt/conda/lib/python3.10/site-packages (from datasets>=1.8.0->-r /kaggle/working/transformers/examples/pytorch/summarization/requirements.txt (line 2)) (0.70.14)\n",
      "Requirement already satisfied: fsspec[http]>=2021.05.0 in /opt/conda/lib/python3.10/site-packages (from datasets>=1.8.0->-r /kaggle/working/transformers/examples/pytorch/summarization/requirements.txt (line 2)) (2023.6.0)\n",
      "Requirement already satisfied: aiohttp in /opt/conda/lib/python3.10/site-packages (from datasets>=1.8.0->-r /kaggle/working/transformers/examples/pytorch/summarization/requirements.txt (line 2)) (3.8.4)\n",
      "Requirement already satisfied: huggingface-hub<1.0.0,>=0.1.0 in /opt/conda/lib/python3.10/site-packages (from datasets>=1.8.0->-r /kaggle/working/transformers/examples/pytorch/summarization/requirements.txt (line 2)) (0.15.1)\n",
      "Requirement already satisfied: responses<0.19 in /opt/conda/lib/python3.10/site-packages (from datasets>=1.8.0->-r /kaggle/working/transformers/examples/pytorch/summarization/requirements.txt (line 2)) (0.18.0)\n",
      "Requirement already satisfied: absl-py in /opt/conda/lib/python3.10/site-packages (from rouge-score->-r /kaggle/working/transformers/examples/pytorch/summarization/requirements.txt (line 5)) (1.4.0)\n",
      "Requirement already satisfied: six>=1.14.0 in /opt/conda/lib/python3.10/site-packages (from rouge-score->-r /kaggle/working/transformers/examples/pytorch/summarization/requirements.txt (line 5)) (1.16.0)\n",
      "Requirement already satisfied: texttable in /opt/conda/lib/python3.10/site-packages (from py7zr->-r /kaggle/working/transformers/examples/pytorch/summarization/requirements.txt (line 7)) (1.6.7)\n",
      "Collecting pycryptodomex>=3.6.6 (from py7zr->-r /kaggle/working/transformers/examples/pytorch/summarization/requirements.txt (line 7))\n",
      "  Downloading pycryptodomex-3.18.0-cp35-abi3-manylinux_2_17_x86_64.manylinux2014_x86_64.whl (2.1 MB)\n",
      "\u001b[2K     \u001b[90m━━━━━━━━━━━━━━━━━━━━━━━━━━━━━━━━━━━━━━━━\u001b[0m \u001b[32m2.1/2.1 MB\u001b[0m \u001b[31m40.8 MB/s\u001b[0m eta \u001b[36m0:00:00\u001b[0m00:01\u001b[0m\n",
      "\u001b[?25hCollecting pyzstd>=0.14.4 (from py7zr->-r /kaggle/working/transformers/examples/pytorch/summarization/requirements.txt (line 7))\n",
      "  Downloading pyzstd-0.15.9-cp310-cp310-manylinux_2_17_x86_64.manylinux2014_x86_64.whl (412 kB)\n",
      "\u001b[2K     \u001b[90m━━━━━━━━━━━━━━━━━━━━━━━━━━━━━━━━━━━━━━\u001b[0m \u001b[32m412.3/412.3 kB\u001b[0m \u001b[31m35.9 MB/s\u001b[0m eta \u001b[36m0:00:00\u001b[0m\n",
      "\u001b[?25hCollecting pyppmd<1.1.0,>=0.18.1 (from py7zr->-r /kaggle/working/transformers/examples/pytorch/summarization/requirements.txt (line 7))\n",
      "  Downloading pyppmd-1.0.0-cp310-cp310-manylinux_2_17_x86_64.manylinux2014_x86_64.whl (138 kB)\n",
      "\u001b[2K     \u001b[90m━━━━━━━━━━━━━━━━━━━━━━━━━━━━━━━━━━━━━━\u001b[0m \u001b[32m138.8/138.8 kB\u001b[0m \u001b[31m11.2 MB/s\u001b[0m eta \u001b[36m0:00:00\u001b[0m\n",
      "\u001b[?25hCollecting pybcj>=0.6.0 (from py7zr->-r /kaggle/working/transformers/examples/pytorch/summarization/requirements.txt (line 7))\n",
      "  Downloading pybcj-1.0.1-cp310-cp310-manylinux_2_17_x86_64.manylinux2014_x86_64.whl (49 kB)\n",
      "\u001b[2K     \u001b[90m━━━━━━━━━━━━━━━━━━━━━━━━━━━━━━━━━━━━━━━━\u001b[0m \u001b[32m49.8/49.8 kB\u001b[0m \u001b[31m4.2 MB/s\u001b[0m eta \u001b[36m0:00:00\u001b[0m\n",
      "\u001b[?25hCollecting multivolumefile>=0.2.3 (from py7zr->-r /kaggle/working/transformers/examples/pytorch/summarization/requirements.txt (line 7))\n",
      "  Downloading multivolumefile-0.2.3-py3-none-any.whl (17 kB)\n",
      "Collecting brotli>=1.0.9 (from py7zr->-r /kaggle/working/transformers/examples/pytorch/summarization/requirements.txt (line 7))\n",
      "  Downloading Brotli-1.0.9-cp310-cp310-manylinux_2_5_x86_64.manylinux1_x86_64.manylinux_2_12_x86_64.manylinux2010_x86_64.whl (2.7 MB)\n",
      "\u001b[2K     \u001b[90m━━━━━━━━━━━━━━━━━━━━━━━━━━━━━━━━━━━━━━━━\u001b[0m \u001b[32m2.7/2.7 MB\u001b[0m \u001b[31m73.6 MB/s\u001b[0m eta \u001b[36m0:00:00\u001b[0m:00:01\u001b[0m\n",
      "\u001b[?25hCollecting inflate64>=0.3.1 (from py7zr->-r /kaggle/working/transformers/examples/pytorch/summarization/requirements.txt (line 7))\n",
      "  Downloading inflate64-0.3.1-cp310-cp310-manylinux_2_17_x86_64.manylinux2014_x86_64.whl (93 kB)\n",
      "\u001b[2K     \u001b[90m━━━━━━━━━━━━━━━━━━━━━━━━━━━━━━━━━━━━━━━━\u001b[0m \u001b[32m93.1/93.1 kB\u001b[0m \u001b[31m9.4 MB/s\u001b[0m eta \u001b[36m0:00:00\u001b[0m\n",
      "\u001b[?25hRequirement already satisfied: filelock in /opt/conda/lib/python3.10/site-packages (from torch>=1.3->-r /kaggle/working/transformers/examples/pytorch/summarization/requirements.txt (line 8)) (3.12.0)\n",
      "Requirement already satisfied: typing-extensions in /opt/conda/lib/python3.10/site-packages (from torch>=1.3->-r /kaggle/working/transformers/examples/pytorch/summarization/requirements.txt (line 8)) (4.5.0)\n",
      "Requirement already satisfied: sympy in /opt/conda/lib/python3.10/site-packages (from torch>=1.3->-r /kaggle/working/transformers/examples/pytorch/summarization/requirements.txt (line 8)) (1.12)\n",
      "Requirement already satisfied: networkx in /opt/conda/lib/python3.10/site-packages (from torch>=1.3->-r /kaggle/working/transformers/examples/pytorch/summarization/requirements.txt (line 8)) (3.1)\n",
      "Requirement already satisfied: jinja2 in /opt/conda/lib/python3.10/site-packages (from torch>=1.3->-r /kaggle/working/transformers/examples/pytorch/summarization/requirements.txt (line 8)) (3.1.2)\n",
      "Requirement already satisfied: attrs>=17.3.0 in /opt/conda/lib/python3.10/site-packages (from aiohttp->datasets>=1.8.0->-r /kaggle/working/transformers/examples/pytorch/summarization/requirements.txt (line 2)) (23.1.0)\n",
      "Requirement already satisfied: charset-normalizer<4.0,>=2.0 in /opt/conda/lib/python3.10/site-packages (from aiohttp->datasets>=1.8.0->-r /kaggle/working/transformers/examples/pytorch/summarization/requirements.txt (line 2)) (2.1.1)\n",
      "Requirement already satisfied: multidict<7.0,>=4.5 in /opt/conda/lib/python3.10/site-packages (from aiohttp->datasets>=1.8.0->-r /kaggle/working/transformers/examples/pytorch/summarization/requirements.txt (line 2)) (6.0.4)\n",
      "Requirement already satisfied: async-timeout<5.0,>=4.0.0a3 in /opt/conda/lib/python3.10/site-packages (from aiohttp->datasets>=1.8.0->-r /kaggle/working/transformers/examples/pytorch/summarization/requirements.txt (line 2)) (4.0.2)\n",
      "Requirement already satisfied: yarl<2.0,>=1.0 in /opt/conda/lib/python3.10/site-packages (from aiohttp->datasets>=1.8.0->-r /kaggle/working/transformers/examples/pytorch/summarization/requirements.txt (line 2)) (1.9.1)\n",
      "Requirement already satisfied: frozenlist>=1.1.1 in /opt/conda/lib/python3.10/site-packages (from aiohttp->datasets>=1.8.0->-r /kaggle/working/transformers/examples/pytorch/summarization/requirements.txt (line 2)) (1.3.3)\n",
      "Requirement already satisfied: aiosignal>=1.1.2 in /opt/conda/lib/python3.10/site-packages (from aiohttp->datasets>=1.8.0->-r /kaggle/working/transformers/examples/pytorch/summarization/requirements.txt (line 2)) (1.3.1)\n",
      "Requirement already satisfied: pyparsing!=3.0.5,>=2.0.2 in /opt/conda/lib/python3.10/site-packages (from packaging>=20.0->accelerate>=0.12.0->-r /kaggle/working/transformers/examples/pytorch/summarization/requirements.txt (line 1)) (3.0.9)\n",
      "Requirement already satisfied: idna<4,>=2.5 in /opt/conda/lib/python3.10/site-packages (from requests>=2.19.0->datasets>=1.8.0->-r /kaggle/working/transformers/examples/pytorch/summarization/requirements.txt (line 2)) (3.4)\n",
      "Requirement already satisfied: urllib3<1.27,>=1.21.1 in /opt/conda/lib/python3.10/site-packages (from requests>=2.19.0->datasets>=1.8.0->-r /kaggle/working/transformers/examples/pytorch/summarization/requirements.txt (line 2)) (1.26.15)\n",
      "Requirement already satisfied: certifi>=2017.4.17 in /opt/conda/lib/python3.10/site-packages (from requests>=2.19.0->datasets>=1.8.0->-r /kaggle/working/transformers/examples/pytorch/summarization/requirements.txt (line 2)) (2023.5.7)\n",
      "Requirement already satisfied: MarkupSafe>=2.0 in /opt/conda/lib/python3.10/site-packages (from jinja2->torch>=1.3->-r /kaggle/working/transformers/examples/pytorch/summarization/requirements.txt (line 8)) (2.1.2)\n",
      "Requirement already satisfied: python-dateutil>=2.8.1 in /opt/conda/lib/python3.10/site-packages (from pandas->datasets>=1.8.0->-r /kaggle/working/transformers/examples/pytorch/summarization/requirements.txt (line 2)) (2.8.2)\n",
      "Requirement already satisfied: pytz>=2020.1 in /opt/conda/lib/python3.10/site-packages (from pandas->datasets>=1.8.0->-r /kaggle/working/transformers/examples/pytorch/summarization/requirements.txt (line 2)) (2023.3)\n",
      "Requirement already satisfied: mpmath>=0.19 in /opt/conda/lib/python3.10/site-packages (from sympy->torch>=1.3->-r /kaggle/working/transformers/examples/pytorch/summarization/requirements.txt (line 8)) (1.3.0)\n",
      "Building wheels for collected packages: rouge-score\n",
      "  Building wheel for rouge-score (setup.py) ... \u001b[?25ldone\n",
      "\u001b[?25h  Created wheel for rouge-score: filename=rouge_score-0.1.2-py3-none-any.whl size=24954 sha256=8136ca69de634e96baaee1e427b544edc172607e5d2f0e49a8c8a9344801dfb8\n",
      "  Stored in directory: /root/.cache/pip/wheels/5f/dd/89/461065a73be61a532ff8599a28e9beef17985c9e9c31e541b4\n",
      "Successfully built rouge-score\n",
      "Installing collected packages: brotli, pyzstd, pyppmd, pycryptodomex, pybcj, multivolumefile, inflate64, rouge-score, py7zr, evaluate\n",
      "Successfully installed brotli-1.0.9 evaluate-0.4.0 inflate64-0.3.1 multivolumefile-0.2.3 py7zr-0.20.5 pybcj-1.0.1 pycryptodomex-3.18.0 pyppmd-1.0.0 pyzstd-0.15.9 rouge-score-0.1.2\n",
      "\u001b[33mWARNING: Running pip as the 'root' user can result in broken permissions and conflicting behaviour with the system package manager. It is recommended to use a virtual environment instead: https://pip.pypa.io/warnings/venv\u001b[0m\u001b[33m\n",
      "\u001b[0mNote: you may need to restart the kernel to use updated packages.\n"
     ]
    }
   ],
   "source": [
    "pip install -r /kaggle/working/transformers/examples/pytorch/summarization/requirements.txt"
   ]
  },
  {
   "cell_type": "code",
   "execution_count": 2,
   "metadata": {
    "colab": {
     "base_uri": "https://localhost:8080/"
    },
    "execution": {
     "iopub.execute_input": "2023-07-06T01:00:27.876108Z",
     "iopub.status.busy": "2023-07-06T01:00:27.875432Z",
     "iopub.status.idle": "2023-07-06T01:01:28.619482Z",
     "shell.execute_reply": "2023-07-06T01:01:28.618285Z",
     "shell.execute_reply.started": "2023-07-06T01:00:27.876067Z"
    },
    "id": "rQX_pzKrvW44",
    "outputId": "f63b8e1c-4893-48ff-9b5e-341963cfcc2d"
   },
   "outputs": [
    {
     "name": "stdout",
     "output_type": "stream",
     "text": [
      "Collecting git+https://github.com/huggingface/transformers.git\n",
      "  Cloning https://github.com/huggingface/transformers.git to c:\\users\\20155\\appdata\\local\\temp\\pip-req-build-omhgyzwq\n",
      "  Resolved https://github.com/huggingface/transformers.git to commit fded6f41861561a1e3311850e5d11c4bbf8a0fb3\n",
      "  Installing build dependencies: started\n",
      "  Installing build dependencies: finished with status 'done'\n",
      "  Getting requirements to build wheel: started\n",
      "  Getting requirements to build wheel: finished with status 'done'\n",
      "    Preparing wheel metadata: started\n",
      "    Preparing wheel metadata: finished with status 'done'\n",
      "Requirement already satisfied: huggingface-hub<1.0,>=0.14.1 in c:\\users\\20155\\anaconda3\\lib\\site-packages (from transformers==4.31.0.dev0) (0.15.1)\n",
      "Requirement already satisfied: numpy>=1.17 in c:\\users\\20155\\anaconda3\\lib\\site-packages (from transformers==4.31.0.dev0) (1.25.0)\n",
      "Requirement already satisfied: tqdm>=4.27 in c:\\users\\20155\\anaconda3\\lib\\site-packages (from transformers==4.31.0.dev0) (4.64.0)\n",
      "Collecting safetensors>=0.3.1\n",
      "  Downloading safetensors-0.3.1-cp39-cp39-win_amd64.whl (263 kB)\n",
      "Collecting tokenizers!=0.11.3,<0.14,>=0.11.1\n",
      "  Using cached tokenizers-0.13.3-cp39-cp39-win_amd64.whl (3.5 MB)\n",
      "Requirement already satisfied: pyyaml>=5.1 in c:\\users\\20155\\anaconda3\\lib\\site-packages (from transformers==4.31.0.dev0) (6.0)\n",
      "Requirement already satisfied: requests in c:\\users\\20155\\anaconda3\\lib\\site-packages (from transformers==4.31.0.dev0) (2.27.1)\n",
      "Requirement already satisfied: filelock in c:\\users\\20155\\anaconda3\\lib\\site-packages (from transformers==4.31.0.dev0) (3.6.0)\n",
      "Requirement already satisfied: packaging>=20.0 in c:\\users\\20155\\anaconda3\\lib\\site-packages (from transformers==4.31.0.dev0) (21.3)\n",
      "Requirement already satisfied: regex!=2019.12.17 in c:\\users\\20155\\anaconda3\\lib\\site-packages (from transformers==4.31.0.dev0) (2022.3.15)\n",
      "Requirement already satisfied: fsspec in c:\\users\\20155\\anaconda3\\lib\\site-packages (from huggingface-hub<1.0,>=0.14.1->transformers==4.31.0.dev0) (2022.2.0)\n",
      "Requirement already satisfied: typing-extensions>=3.7.4.3 in c:\\users\\20155\\anaconda3\\lib\\site-packages (from huggingface-hub<1.0,>=0.14.1->transformers==4.31.0.dev0) (4.6.3)\n",
      "Requirement already satisfied: pyparsing!=3.0.5,>=2.0.2 in c:\\users\\20155\\anaconda3\\lib\\site-packages (from packaging>=20.0->transformers==4.31.0.dev0) (3.0.4)\n",
      "Requirement already satisfied: colorama in c:\\users\\20155\\anaconda3\\lib\\site-packages (from tqdm>=4.27->transformers==4.31.0.dev0) (0.4.4)\n",
      "Requirement already satisfied: urllib3<1.27,>=1.21.1 in c:\\users\\20155\\anaconda3\\lib\\site-packages (from requests->transformers==4.31.0.dev0) (1.26.9)\n",
      "Requirement already satisfied: certifi>=2017.4.17 in c:\\users\\20155\\anaconda3\\lib\\site-packages (from requests->transformers==4.31.0.dev0) (2021.10.8)\n",
      "Requirement already satisfied: charset-normalizer~=2.0.0 in c:\\users\\20155\\anaconda3\\lib\\site-packages (from requests->transformers==4.31.0.dev0) (2.0.4)\n",
      "Requirement already satisfied: idna<4,>=2.5 in c:\\users\\20155\\anaconda3\\lib\\site-packages (from requests->transformers==4.31.0.dev0) (3.3)\n",
      "Building wheels for collected packages: transformers\n",
      "  Building wheel for transformers (PEP 517): started\n",
      "  Building wheel for transformers (PEP 517): finished with status 'done'\n",
      "  Created wheel for transformers: filename=transformers-4.31.0.dev0-py3-none-any.whl size=7283496 sha256=32a10f4a904f4653c8de3b4a276c98eb7628b66c40b2b7ad635fe9d1bf5d1338\n",
      "  Stored in directory: C:\\Users\\20155\\AppData\\Local\\Temp\\pip-ephem-wheel-cache-s2ywvsae\\wheels\\f7\\92\\8c\\752ff3bfcd3439805d8bbf641614da38ef3226e127ebea86ee\n",
      "Successfully built transformers\n",
      "Installing collected packages: tokenizers, safetensors, transformers\n",
      "  Attempting uninstall: tokenizers\n",
      "    Found existing installation: tokenizers 0.10.3\n",
      "    Uninstalling tokenizers-0.10.3:\n",
      "      Successfully uninstalled tokenizers-0.10.3\n",
      "  Attempting uninstall: transformers\n",
      "    Found existing installation: transformers 4.16.2\n",
      "    Uninstalling transformers-4.16.2:\n",
      "      Successfully uninstalled transformers-4.16.2\n",
      "Successfully installed safetensors-0.3.1 tokenizers-0.13.3 transformers-4.31.0.dev0\n"
     ]
    },
    {
     "name": "stderr",
     "output_type": "stream",
     "text": [
      "WARNING: Ignoring invalid distribution -rotobuf (c:\\users\\20155\\anaconda3\\lib\\site-packages)\n",
      "WARNING: Ignoring invalid distribution -rotobuf (c:\\users\\20155\\anaconda3\\lib\\site-packages)\n",
      "  Running command git clone -q https://github.com/huggingface/transformers.git 'C:\\Users\\20155\\AppData\\Local\\Temp\\pip-req-build-omhgyzwq'\n",
      "WARNING: Ignoring invalid distribution -rotobuf (c:\\users\\20155\\anaconda3\\lib\\site-packages)\n",
      "    WARNING: Ignoring invalid distribution -rotobuf (c:\\users\\20155\\anaconda3\\lib\\site-packages)\n",
      "    WARNING: Ignoring invalid distribution -rotobuf (c:\\users\\20155\\anaconda3\\lib\\site-packages)\n",
      "WARNING: Ignoring invalid distribution -rotobuf (c:\\users\\20155\\anaconda3\\lib\\site-packages)\n",
      "WARNING: Ignoring invalid distribution -rotobuf (c:\\users\\20155\\anaconda3\\lib\\site-packages)\n",
      "WARNING: Ignoring invalid distribution -rotobuf (c:\\users\\20155\\anaconda3\\lib\\site-packages)\n",
      "ERROR: pip's dependency resolver does not currently take into account all the packages that are installed. This behaviour is the source of the following dependency conflicts.\n",
      "simplet5 0.1.4 requires transformers==4.16.2, but you have transformers 4.31.0.dev0 which is incompatible.\n",
      "WARNING: Ignoring invalid distribution -rotobuf (c:\\users\\20155\\anaconda3\\lib\\site-packages)\n",
      "WARNING: Ignoring invalid distribution -rotobuf (c:\\users\\20155\\anaconda3\\lib\\site-packages)\n",
      "WARNING: Ignoring invalid distribution -rotobuf (c:\\users\\20155\\anaconda3\\lib\\site-packages)\n"
     ]
    },
    {
     "name": "stdout",
     "output_type": "stream",
     "text": [
      "Collecting git+https://github.com/huggingface/accelerate.git\n",
      "  Cloning https://github.com/huggingface/accelerate.git to c:\\users\\20155\\appdata\\local\\temp\\pip-req-build-1ow_t4we\n",
      "  Resolved https://github.com/huggingface/accelerate.git to commit e0f5e030098aada5e112708eee3537475dea3a83\n",
      "  Installing build dependencies: started\n",
      "  Installing build dependencies: finished with status 'done'\n",
      "  Getting requirements to build wheel: started\n",
      "  Getting requirements to build wheel: finished with status 'done'\n",
      "    Preparing wheel metadata: started\n",
      "    Preparing wheel metadata: finished with status 'done'\n",
      "Requirement already satisfied: torch>=1.10.0 in c:\\users\\20155\\anaconda3\\lib\\site-packages (from accelerate==0.21.0.dev0) (2.0.1)\n",
      "Requirement already satisfied: pyyaml in c:\\users\\20155\\anaconda3\\lib\\site-packages (from accelerate==0.21.0.dev0) (6.0)\n",
      "Requirement already satisfied: packaging>=20.0 in c:\\users\\20155\\anaconda3\\lib\\site-packages (from accelerate==0.21.0.dev0) (21.3)\n",
      "Requirement already satisfied: numpy>=1.17 in c:\\users\\20155\\anaconda3\\lib\\site-packages (from accelerate==0.21.0.dev0) (1.25.0)\n",
      "Requirement already satisfied: psutil in c:\\users\\20155\\anaconda3\\lib\\site-packages (from accelerate==0.21.0.dev0) (5.8.0)\n",
      "Requirement already satisfied: pyparsing!=3.0.5,>=2.0.2 in c:\\users\\20155\\anaconda3\\lib\\site-packages (from packaging>=20.0->accelerate==0.21.0.dev0) (3.0.4)\n",
      "Requirement already satisfied: jinja2 in c:\\users\\20155\\anaconda3\\lib\\site-packages (from torch>=1.10.0->accelerate==0.21.0.dev0) (2.11.3)\n",
      "Requirement already satisfied: typing-extensions in c:\\users\\20155\\anaconda3\\lib\\site-packages (from torch>=1.10.0->accelerate==0.21.0.dev0) (4.6.3)\n",
      "Requirement already satisfied: filelock in c:\\users\\20155\\anaconda3\\lib\\site-packages (from torch>=1.10.0->accelerate==0.21.0.dev0) (3.6.0)\n",
      "Requirement already satisfied: sympy in c:\\users\\20155\\anaconda3\\lib\\site-packages (from torch>=1.10.0->accelerate==0.21.0.dev0) (1.10.1)\n",
      "Requirement already satisfied: networkx in c:\\users\\20155\\anaconda3\\lib\\site-packages (from torch>=1.10.0->accelerate==0.21.0.dev0) (2.7.1)\n",
      "Requirement already satisfied: MarkupSafe>=0.23 in c:\\users\\20155\\anaconda3\\lib\\site-packages (from jinja2->torch>=1.10.0->accelerate==0.21.0.dev0) (2.0.1)\n",
      "Requirement already satisfied: mpmath>=0.19 in c:\\users\\20155\\anaconda3\\lib\\site-packages (from sympy->torch>=1.10.0->accelerate==0.21.0.dev0) (1.2.1)\n",
      "Building wheels for collected packages: accelerate\n",
      "  Building wheel for accelerate (PEP 517): started\n",
      "  Building wheel for accelerate (PEP 517): finished with status 'done'\n",
      "  Created wheel for accelerate: filename=accelerate-0.21.0.dev0-py3-none-any.whl size=243452 sha256=f368f321a1f58b1a236fd1ca2c106cb971e79c69e8daf5032ad3c6430176f524\n",
      "  Stored in directory: C:\\Users\\20155\\AppData\\Local\\Temp\\pip-ephem-wheel-cache-g356wuuq\\wheels\\60\\53\\1d\\f8f7d9ed24f2b70cf9b37ecd31318a274049263effcc4b5bf3\n",
      "Successfully built accelerate\n",
      "Installing collected packages: accelerate\n",
      "Successfully installed accelerate-0.21.0.dev0\n"
     ]
    },
    {
     "name": "stderr",
     "output_type": "stream",
     "text": [
      "WARNING: Ignoring invalid distribution -rotobuf (c:\\users\\20155\\anaconda3\\lib\\site-packages)\n",
      "WARNING: Ignoring invalid distribution -rotobuf (c:\\users\\20155\\anaconda3\\lib\\site-packages)\n",
      "  Running command git clone -q https://github.com/huggingface/accelerate.git 'C:\\Users\\20155\\AppData\\Local\\Temp\\pip-req-build-1ow_t4we'\n",
      "WARNING: Ignoring invalid distribution -rotobuf (c:\\users\\20155\\anaconda3\\lib\\site-packages)\n",
      "WARNING: Ignoring invalid distribution -rotobuf (c:\\users\\20155\\anaconda3\\lib\\site-packages)\n",
      "WARNING: Ignoring invalid distribution -rotobuf (c:\\users\\20155\\anaconda3\\lib\\site-packages)\n",
      "WARNING: Ignoring invalid distribution -rotobuf (c:\\users\\20155\\anaconda3\\lib\\site-packages)\n",
      "WARNING: Ignoring invalid distribution -rotobuf (c:\\users\\20155\\anaconda3\\lib\\site-packages)\n"
     ]
    }
   ],
   "source": [
    "! pip install -U git+https://github.com/huggingface/transformers.git\n",
    "! pip install -U git+https://github.com/huggingface/accelerate.git"
   ]
  },
  {
   "cell_type": "code",
   "execution_count": 21,
   "metadata": {
    "colab": {
     "base_uri": "https://localhost:8080/"
    },
    "execution": {
     "iopub.execute_input": "2023-07-06T01:01:28.622715Z",
     "iopub.status.busy": "2023-07-06T01:01:28.622301Z",
     "iopub.status.idle": "2023-07-06T01:01:29.664426Z",
     "shell.execute_reply": "2023-07-06T01:01:29.663107Z",
     "shell.execute_reply.started": "2023-07-06T01:01:28.622674Z"
    },
    "id": "ar0PUcJsx19C",
    "outputId": "2a27c4dc-ed2a-452f-c9bb-49f5169e7c80"
   },
   "outputs": [],
   "source": [
    "!mkdir tst-summarization"
   ]
  },
  {
   "cell_type": "code",
   "execution_count": 24,
   "metadata": {
    "colab": {
     "base_uri": "https://localhost:8080/"
    },
    "execution": {
     "iopub.execute_input": "2023-07-06T01:03:34.424389Z",
     "iopub.status.busy": "2023-07-06T01:03:34.423595Z",
     "iopub.status.idle": "2023-07-06T03:55:39.494993Z",
     "shell.execute_reply": "2023-07-06T03:55:39.493613Z",
     "shell.execute_reply.started": "2023-07-06T01:03:34.424355Z"
    },
    "id": "r1DLSLIwvSvu",
    "outputId": "d4e921f5-dcfc-467c-ce0d-2df6c5c68421"
   },
   "outputs": [
    {
     "name": "stdout",
     "output_type": "stream",
     "text": [
      "/opt/conda/lib/python3.10/site-packages/tensorflow_io/python/ops/__init__.py:98: UserWarning: unable to load libtensorflow_io_plugins.so: unable to open file: libtensorflow_io_plugins.so, from paths: ['/opt/conda/lib/python3.10/site-packages/tensorflow_io/python/ops/libtensorflow_io_plugins.so']\n",
      "caused by: ['/opt/conda/lib/python3.10/site-packages/tensorflow_io/python/ops/libtensorflow_io_plugins.so: undefined symbol: _ZN3tsl6StatusC1EN10tensorflow5error4CodeESt17basic_string_viewIcSt11char_traitsIcEENS_14SourceLocationE']\n",
      "  warnings.warn(f\"unable to load libtensorflow_io_plugins.so: {e}\")\n",
      "/opt/conda/lib/python3.10/site-packages/tensorflow_io/python/ops/__init__.py:104: UserWarning: file system plugins are not loaded: unable to open file: libtensorflow_io.so, from paths: ['/opt/conda/lib/python3.10/site-packages/tensorflow_io/python/ops/libtensorflow_io.so']\n",
      "caused by: ['/opt/conda/lib/python3.10/site-packages/tensorflow_io/python/ops/libtensorflow_io.so: undefined symbol: _ZTVN10tensorflow13GcsFileSystemE']\n",
      "  warnings.warn(f\"file system plugins are not loaded: {e}\")\n",
      "100%|████████████████████████████████████████████| 2/2 [00:00<00:00, 721.41it/s]\n",
      "[INFO|configuration_utils.py:712] 2023-07-06 01:03:45,555 >> loading configuration file config.json from cache at /root/.cache/huggingface/hub/models--facebook--mbart-large-50/snapshots/4ef55a20b36c6903b832e38f0604ab4bdf22c7d6/config.json\n",
      "[INFO|configuration_utils.py:768] 2023-07-06 01:03:45,564 >> Model config MBartConfig {\n",
      "  \"_name_or_path\": \"facebook/mbart-large-50\",\n",
      "  \"_num_labels\": 3,\n",
      "  \"activation_dropout\": 0.0,\n",
      "  \"activation_function\": \"gelu\",\n",
      "  \"add_bias_logits\": false,\n",
      "  \"add_final_layer_norm\": true,\n",
      "  \"architectures\": [\n",
      "    \"MBartForConditionalGeneration\"\n",
      "  ],\n",
      "  \"attention_dropout\": 0.0,\n",
      "  \"bos_token_id\": 0,\n",
      "  \"classif_dropout\": 0.0,\n",
      "  \"classifier_dropout\": 0.0,\n",
      "  \"d_model\": 1024,\n",
      "  \"decoder_attention_heads\": 16,\n",
      "  \"decoder_ffn_dim\": 4096,\n",
      "  \"decoder_layerdrop\": 0.0,\n",
      "  \"decoder_layers\": 12,\n",
      "  \"decoder_start_token_id\": 2,\n",
      "  \"dropout\": 0.1,\n",
      "  \"early_stopping\": true,\n",
      "  \"encoder_attention_heads\": 16,\n",
      "  \"encoder_ffn_dim\": 4096,\n",
      "  \"encoder_layerdrop\": 0.0,\n",
      "  \"encoder_layers\": 12,\n",
      "  \"eos_token_id\": 2,\n",
      "  \"forced_eos_token_id\": 2,\n",
      "  \"gradient_checkpointing\": false,\n",
      "  \"id2label\": {\n",
      "    \"0\": \"LABEL_0\",\n",
      "    \"1\": \"LABEL_1\",\n",
      "    \"2\": \"LABEL_2\"\n",
      "  },\n",
      "  \"init_std\": 0.02,\n",
      "  \"is_encoder_decoder\": true,\n",
      "  \"label2id\": {\n",
      "    \"LABEL_0\": 0,\n",
      "    \"LABEL_1\": 1,\n",
      "    \"LABEL_2\": 2\n",
      "  },\n",
      "  \"max_length\": 200,\n",
      "  \"max_position_embeddings\": 1024,\n",
      "  \"model_type\": \"mbart\",\n",
      "  \"normalize_before\": true,\n",
      "  \"normalize_embedding\": true,\n",
      "  \"num_beams\": 5,\n",
      "  \"num_hidden_layers\": 12,\n",
      "  \"output_past\": true,\n",
      "  \"pad_token_id\": 1,\n",
      "  \"scale_embedding\": true,\n",
      "  \"static_position_embeddings\": false,\n",
      "  \"tokenizer_class\": \"MBart50Tokenizer\",\n",
      "  \"transformers_version\": \"4.31.0.dev0\",\n",
      "  \"use_cache\": true,\n",
      "  \"vocab_size\": 250054\n",
      "}\n",
      "\n",
      "[INFO|configuration_utils.py:712] 2023-07-06 01:03:45,609 >> loading configuration file config.json from cache at /root/.cache/huggingface/hub/models--facebook--mbart-large-50/snapshots/4ef55a20b36c6903b832e38f0604ab4bdf22c7d6/config.json\n",
      "[INFO|configuration_utils.py:768] 2023-07-06 01:03:45,610 >> Model config MBartConfig {\n",
      "  \"_name_or_path\": \"facebook/mbart-large-50\",\n",
      "  \"_num_labels\": 3,\n",
      "  \"activation_dropout\": 0.0,\n",
      "  \"activation_function\": \"gelu\",\n",
      "  \"add_bias_logits\": false,\n",
      "  \"add_final_layer_norm\": true,\n",
      "  \"architectures\": [\n",
      "    \"MBartForConditionalGeneration\"\n",
      "  ],\n",
      "  \"attention_dropout\": 0.0,\n",
      "  \"bos_token_id\": 0,\n",
      "  \"classif_dropout\": 0.0,\n",
      "  \"classifier_dropout\": 0.0,\n",
      "  \"d_model\": 1024,\n",
      "  \"decoder_attention_heads\": 16,\n",
      "  \"decoder_ffn_dim\": 4096,\n",
      "  \"decoder_layerdrop\": 0.0,\n",
      "  \"decoder_layers\": 12,\n",
      "  \"decoder_start_token_id\": 2,\n",
      "  \"dropout\": 0.1,\n",
      "  \"early_stopping\": true,\n",
      "  \"encoder_attention_heads\": 16,\n",
      "  \"encoder_ffn_dim\": 4096,\n",
      "  \"encoder_layerdrop\": 0.0,\n",
      "  \"encoder_layers\": 12,\n",
      "  \"eos_token_id\": 2,\n",
      "  \"forced_eos_token_id\": 2,\n",
      "  \"gradient_checkpointing\": false,\n",
      "  \"id2label\": {\n",
      "    \"0\": \"LABEL_0\",\n",
      "    \"1\": \"LABEL_1\",\n",
      "    \"2\": \"LABEL_2\"\n",
      "  },\n",
      "  \"init_std\": 0.02,\n",
      "  \"is_encoder_decoder\": true,\n",
      "  \"label2id\": {\n",
      "    \"LABEL_0\": 0,\n",
      "    \"LABEL_1\": 1,\n",
      "    \"LABEL_2\": 2\n",
      "  },\n",
      "  \"max_length\": 200,\n",
      "  \"max_position_embeddings\": 1024,\n",
      "  \"model_type\": \"mbart\",\n",
      "  \"normalize_before\": true,\n",
      "  \"normalize_embedding\": true,\n",
      "  \"num_beams\": 5,\n",
      "  \"num_hidden_layers\": 12,\n",
      "  \"output_past\": true,\n",
      "  \"pad_token_id\": 1,\n",
      "  \"scale_embedding\": true,\n",
      "  \"static_position_embeddings\": false,\n",
      "  \"tokenizer_class\": \"MBart50Tokenizer\",\n",
      "  \"transformers_version\": \"4.31.0.dev0\",\n",
      "  \"use_cache\": true,\n",
      "  \"vocab_size\": 250054\n",
      "}\n",
      "\n",
      "[INFO|tokenization_utils_base.py:1844] 2023-07-06 01:03:45,611 >> loading file sentencepiece.bpe.model from cache at /root/.cache/huggingface/hub/models--facebook--mbart-large-50/snapshots/4ef55a20b36c6903b832e38f0604ab4bdf22c7d6/sentencepiece.bpe.model\n",
      "[INFO|tokenization_utils_base.py:1844] 2023-07-06 01:03:45,611 >> loading file tokenizer.json from cache at None\n",
      "[INFO|tokenization_utils_base.py:1844] 2023-07-06 01:03:45,611 >> loading file added_tokens.json from cache at None\n",
      "[INFO|tokenization_utils_base.py:1844] 2023-07-06 01:03:45,612 >> loading file special_tokens_map.json from cache at /root/.cache/huggingface/hub/models--facebook--mbart-large-50/snapshots/4ef55a20b36c6903b832e38f0604ab4bdf22c7d6/special_tokens_map.json\n",
      "[INFO|tokenization_utils_base.py:1844] 2023-07-06 01:03:45,612 >> loading file tokenizer_config.json from cache at /root/.cache/huggingface/hub/models--facebook--mbart-large-50/snapshots/4ef55a20b36c6903b832e38f0604ab4bdf22c7d6/tokenizer_config.json\n",
      "[INFO|configuration_utils.py:712] 2023-07-06 01:03:45,612 >> loading configuration file config.json from cache at /root/.cache/huggingface/hub/models--facebook--mbart-large-50/snapshots/4ef55a20b36c6903b832e38f0604ab4bdf22c7d6/config.json\n",
      "[INFO|configuration_utils.py:768] 2023-07-06 01:03:45,614 >> Model config MBartConfig {\n",
      "  \"_name_or_path\": \"facebook/mbart-large-50\",\n",
      "  \"_num_labels\": 3,\n",
      "  \"activation_dropout\": 0.0,\n",
      "  \"activation_function\": \"gelu\",\n",
      "  \"add_bias_logits\": false,\n",
      "  \"add_final_layer_norm\": true,\n",
      "  \"architectures\": [\n",
      "    \"MBartForConditionalGeneration\"\n",
      "  ],\n",
      "  \"attention_dropout\": 0.0,\n",
      "  \"bos_token_id\": 0,\n",
      "  \"classif_dropout\": 0.0,\n",
      "  \"classifier_dropout\": 0.0,\n",
      "  \"d_model\": 1024,\n",
      "  \"decoder_attention_heads\": 16,\n",
      "  \"decoder_ffn_dim\": 4096,\n",
      "  \"decoder_layerdrop\": 0.0,\n",
      "  \"decoder_layers\": 12,\n",
      "  \"decoder_start_token_id\": 2,\n",
      "  \"dropout\": 0.1,\n",
      "  \"early_stopping\": true,\n",
      "  \"encoder_attention_heads\": 16,\n",
      "  \"encoder_ffn_dim\": 4096,\n",
      "  \"encoder_layerdrop\": 0.0,\n",
      "  \"encoder_layers\": 12,\n",
      "  \"eos_token_id\": 2,\n",
      "  \"forced_eos_token_id\": 2,\n",
      "  \"gradient_checkpointing\": false,\n",
      "  \"id2label\": {\n",
      "    \"0\": \"LABEL_0\",\n",
      "    \"1\": \"LABEL_1\",\n",
      "    \"2\": \"LABEL_2\"\n",
      "  },\n",
      "  \"init_std\": 0.02,\n",
      "  \"is_encoder_decoder\": true,\n",
      "  \"label2id\": {\n",
      "    \"LABEL_0\": 0,\n",
      "    \"LABEL_1\": 1,\n",
      "    \"LABEL_2\": 2\n",
      "  },\n",
      "  \"max_length\": 200,\n",
      "  \"max_position_embeddings\": 1024,\n",
      "  \"model_type\": \"mbart\",\n",
      "  \"normalize_before\": true,\n",
      "  \"normalize_embedding\": true,\n",
      "  \"num_beams\": 5,\n",
      "  \"num_hidden_layers\": 12,\n",
      "  \"output_past\": true,\n",
      "  \"pad_token_id\": 1,\n",
      "  \"scale_embedding\": true,\n",
      "  \"static_position_embeddings\": false,\n",
      "  \"tokenizer_class\": \"MBart50Tokenizer\",\n",
      "  \"transformers_version\": \"4.31.0.dev0\",\n",
      "  \"use_cache\": true,\n",
      "  \"vocab_size\": 250054\n",
      "}\n",
      "\n",
      "[INFO|configuration_utils.py:712] 2023-07-06 01:03:46,300 >> loading configuration file config.json from cache at /root/.cache/huggingface/hub/models--facebook--mbart-large-50/snapshots/4ef55a20b36c6903b832e38f0604ab4bdf22c7d6/config.json\n",
      "[INFO|configuration_utils.py:768] 2023-07-06 01:03:46,302 >> Model config MBartConfig {\n",
      "  \"_name_or_path\": \"facebook/mbart-large-50\",\n",
      "  \"_num_labels\": 3,\n",
      "  \"activation_dropout\": 0.0,\n",
      "  \"activation_function\": \"gelu\",\n",
      "  \"add_bias_logits\": false,\n",
      "  \"add_final_layer_norm\": true,\n",
      "  \"architectures\": [\n",
      "    \"MBartForConditionalGeneration\"\n",
      "  ],\n",
      "  \"attention_dropout\": 0.0,\n",
      "  \"bos_token_id\": 0,\n",
      "  \"classif_dropout\": 0.0,\n",
      "  \"classifier_dropout\": 0.0,\n",
      "  \"d_model\": 1024,\n",
      "  \"decoder_attention_heads\": 16,\n",
      "  \"decoder_ffn_dim\": 4096,\n",
      "  \"decoder_layerdrop\": 0.0,\n",
      "  \"decoder_layers\": 12,\n",
      "  \"decoder_start_token_id\": 2,\n",
      "  \"dropout\": 0.1,\n",
      "  \"early_stopping\": true,\n",
      "  \"encoder_attention_heads\": 16,\n",
      "  \"encoder_ffn_dim\": 4096,\n",
      "  \"encoder_layerdrop\": 0.0,\n",
      "  \"encoder_layers\": 12,\n",
      "  \"eos_token_id\": 2,\n",
      "  \"forced_eos_token_id\": 2,\n",
      "  \"gradient_checkpointing\": false,\n",
      "  \"id2label\": {\n",
      "    \"0\": \"LABEL_0\",\n",
      "    \"1\": \"LABEL_1\",\n",
      "    \"2\": \"LABEL_2\"\n",
      "  },\n",
      "  \"init_std\": 0.02,\n",
      "  \"is_encoder_decoder\": true,\n",
      "  \"label2id\": {\n",
      "    \"LABEL_0\": 0,\n",
      "    \"LABEL_1\": 1,\n",
      "    \"LABEL_2\": 2\n",
      "  },\n",
      "  \"max_length\": 200,\n",
      "  \"max_position_embeddings\": 1024,\n",
      "  \"model_type\": \"mbart\",\n",
      "  \"normalize_before\": true,\n",
      "  \"normalize_embedding\": true,\n",
      "  \"num_beams\": 5,\n",
      "  \"num_hidden_layers\": 12,\n",
      "  \"output_past\": true,\n",
      "  \"pad_token_id\": 1,\n",
      "  \"scale_embedding\": true,\n",
      "  \"static_position_embeddings\": false,\n",
      "  \"tokenizer_class\": \"MBart50Tokenizer\",\n",
      "  \"transformers_version\": \"4.31.0.dev0\",\n",
      "  \"use_cache\": true,\n",
      "  \"vocab_size\": 250054\n",
      "}\n",
      "\n",
      "[INFO|modeling_utils.py:2604] 2023-07-06 01:03:47,620 >> loading weights file pytorch_model.bin from cache at /root/.cache/huggingface/hub/models--facebook--mbart-large-50/snapshots/4ef55a20b36c6903b832e38f0604ab4bdf22c7d6/pytorch_model.bin\n",
      "[INFO|configuration_utils.py:599] 2023-07-06 01:03:49,975 >> Generate config GenerationConfig {\n",
      "  \"_from_model_config\": true,\n",
      "  \"bos_token_id\": 0,\n",
      "  \"decoder_start_token_id\": 2,\n",
      "  \"early_stopping\": true,\n",
      "  \"eos_token_id\": 2,\n",
      "  \"forced_eos_token_id\": 2,\n",
      "  \"max_length\": 200,\n",
      "  \"num_beams\": 5,\n",
      "  \"pad_token_id\": 1,\n",
      "  \"transformers_version\": \"4.31.0.dev0\"\n",
      "}\n",
      "\n",
      "[INFO|modeling_utils.py:3327] 2023-07-06 01:04:05,575 >> All model checkpoint weights were used when initializing MBartForConditionalGeneration.\n",
      "\n",
      "[INFO|modeling_utils.py:3335] 2023-07-06 01:04:05,575 >> All the weights of MBartForConditionalGeneration were initialized from the model checkpoint at facebook/mbart-large-50.\n",
      "If your task is similar to the task the model of the checkpoint was trained on, you can already use MBartForConditionalGeneration for predictions without further training.\n",
      "[INFO|configuration_utils.py:561] 2023-07-06 01:04:05,686 >> loading configuration file generation_config.json from cache at /root/.cache/huggingface/hub/models--facebook--mbart-large-50/snapshots/4ef55a20b36c6903b832e38f0604ab4bdf22c7d6/generation_config.json\n",
      "[INFO|configuration_utils.py:599] 2023-07-06 01:04:05,687 >> Generate config GenerationConfig {\n",
      "  \"_from_model_config\": true,\n",
      "  \"bos_token_id\": 0,\n",
      "  \"decoder_start_token_id\": 2,\n",
      "  \"early_stopping\": true,\n",
      "  \"eos_token_id\": 2,\n",
      "  \"forced_eos_token_id\": 2,\n",
      "  \"max_length\": 200,\n",
      "  \"num_beams\": 5,\n",
      "  \"pad_token_id\": 1,\n",
      "  \"transformers_version\": \"4.31.0.dev0\"\n",
      "}\n",
      "\n",
      "/opt/conda/lib/python3.10/site-packages/transformers/optimization.py:411: FutureWarning: This implementation of AdamW is deprecated and will be removed in a future version. Use the PyTorch implementation torch.optim.AdamW instead, or set `no_deprecation_warning=True` to disable this warning\n",
      "  warnings.warn(\n",
      "[INFO|trainer.py:1679] 2023-07-06 01:04:09,333 >> ***** Running training *****\n",
      "[INFO|trainer.py:1680] 2023-07-06 01:04:09,333 >>   Num examples = 923\n",
      "[INFO|trainer.py:1681] 2023-07-06 01:04:09,333 >>   Num Epochs = 22\n",
      "[INFO|trainer.py:1682] 2023-07-06 01:04:09,333 >>   Instantaneous batch size per device = 1\n",
      "[INFO|trainer.py:1684] 2023-07-06 01:04:09,333 >>   Training with DataParallel so batch size has been adjusted to: 2\n",
      "[INFO|trainer.py:1685] 2023-07-06 01:04:09,333 >>   Total train batch size (w. parallel, distributed & accumulation) = 2\n",
      "[INFO|trainer.py:1686] 2023-07-06 01:04:09,333 >>   Gradient Accumulation steps = 1\n",
      "[INFO|trainer.py:1687] 2023-07-06 01:04:09,333 >>   Total optimization steps = 10,164\n",
      "[INFO|trainer.py:1688] 2023-07-06 01:04:09,335 >>   Number of trainable parameters = 610,879,488\n",
      "[INFO|integrations.py:716] 2023-07-06 01:04:09,341 >> Automatic Weights & Biases logging enabled, to disable set os.environ[\"WANDB_DISABLED\"] = \"true\"\n",
      "\u001b[34m\u001b[1mwandb\u001b[0m: Currently logged in as: \u001b[33mahmedmohamed2017e\u001b[0m (\u001b[33mahmedzaid\u001b[0m). Use \u001b[1m`wandb login --relogin`\u001b[0m to force relogin\n",
      "\u001b[34m\u001b[1mwandb\u001b[0m: wandb version 0.15.5 is available!  To upgrade, please run:\n",
      "\u001b[34m\u001b[1mwandb\u001b[0m:  $ pip install wandb --upgrade\n",
      "\u001b[34m\u001b[1mwandb\u001b[0m: Tracking run with wandb version 0.15.4\n",
      "\u001b[34m\u001b[1mwandb\u001b[0m: Run data is saved locally in \u001b[35m\u001b[1m/kaggle/working/transformers/wandb/run-20230706_010409-092fbsl5\u001b[0m\n",
      "\u001b[34m\u001b[1mwandb\u001b[0m: Run \u001b[1m`wandb offline`\u001b[0m to turn off syncing.\n",
      "\u001b[34m\u001b[1mwandb\u001b[0m: Syncing run \u001b[33mdistinctive-dew-20\u001b[0m\n",
      "\u001b[34m\u001b[1mwandb\u001b[0m: ⭐️ View project at \u001b[34m\u001b[4mhttps://wandb.ai/ahmedzaid/huggingface\u001b[0m\n",
      "\u001b[34m\u001b[1mwandb\u001b[0m: 🚀 View run at \u001b[34m\u001b[4mhttps://wandb.ai/ahmedzaid/huggingface/runs/092fbsl5\u001b[0m\n",
      "  0%|                                                 | 0/10164 [00:00<?, ?it/s][WARNING|logging.py:280] 2023-07-06 01:04:39,875 >> You're using a MBart50TokenizerFast tokenizer. Please note that with a fast tokenizer, using the `__call__` method is faster than using a method to encode the text followed by a call to the `pad` method to get a padded encoding.\n",
      "/opt/conda/lib/python3.10/site-packages/torch/nn/parallel/_functions.py:68: UserWarning: Was asked to gather along dimension 0, but all input tensors were scalars; will instead unsqueeze and return a vector.\n",
      "  warnings.warn('Was asked to gather along dimension 0, but all '\n",
      "{'loss': 1.4249, 'learning_rate': 4.754033844942936e-05, 'epoch': 1.08}         \n",
      "{'loss': 0.708, 'learning_rate': 4.508067689885872e-05, 'epoch': 2.16}          \n",
      "{'loss': 0.444, 'learning_rate': 4.262101534828808e-05, 'epoch': 3.25}          \n",
      "{'loss': 4.4818, 'learning_rate': 4.016135379771744e-05, 'epoch': 4.33}         \n",
      "{'loss': 0.2145, 'learning_rate': 3.7701692247146796e-05, 'epoch': 5.41}        \n",
      "{'loss': 0.1345, 'learning_rate': 3.524203069657615e-05, 'epoch': 6.49}         \n",
      "{'loss': 0.0835, 'learning_rate': 3.278236914600551e-05, 'epoch': 7.58}         \n",
      "{'loss': 0.0598, 'learning_rate': 3.0322707595434867e-05, 'epoch': 8.66}        \n",
      "{'loss': 0.0425, 'learning_rate': 2.7863046044864228e-05, 'epoch': 9.74}        \n",
      "{'loss': 0.0288, 'learning_rate': 2.5403384494293585e-05, 'epoch': 10.82}       \n",
      "{'loss': 0.0236, 'learning_rate': 2.2943722943722946e-05, 'epoch': 11.9}        \n",
      "{'loss': 0.0161, 'learning_rate': 2.0484061393152303e-05, 'epoch': 12.99}       \n",
      "{'loss': 0.0118, 'learning_rate': 1.8024399842581664e-05, 'epoch': 14.07}       \n",
      "{'loss': 0.0089, 'learning_rate': 1.5564738292011018e-05, 'epoch': 15.15}       \n",
      "{'loss': 0.0069, 'learning_rate': 1.3105076741440379e-05, 'epoch': 16.23}       \n",
      "{'loss': 0.0054, 'learning_rate': 1.0645415190869738e-05, 'epoch': 17.32}       \n",
      "{'loss': 0.0032, 'learning_rate': 8.185753640299097e-06, 'epoch': 18.4}         \n",
      "{'loss': 0.0025, 'learning_rate': 5.726092089728453e-06, 'epoch': 19.48}        \n",
      "{'loss': 0.0013, 'learning_rate': 3.2664305391578125e-06, 'epoch': 20.56}       \n",
      "{'loss': 0.0008, 'learning_rate': 8.067689885871704e-07, 'epoch': 21.65}        \n",
      "100%|███████████████████████████████████| 10164/10164 [2:50:27<00:00,  1.16it/s][INFO|trainer.py:1927] 2023-07-06 03:55:07,506 >> \n",
      "\n",
      "Training completed. Do not forget to share your model on huggingface.co/models =)\n",
      "\n",
      "\n",
      "{'train_runtime': 10258.1715, 'train_samples_per_second': 1.979, 'train_steps_per_second': 0.991, 'train_loss': 0.3789284288097394, 'epoch': 22.0}\n",
      "100%|███████████████████████████████████| 10164/10164 [2:50:27<00:00,  1.01s/it]\n",
      "[INFO|trainer.py:2818] 2023-07-06 03:55:07,511 >> Saving model checkpoint to /kaggle/working/tst-summarization\n",
      "[INFO|configuration_utils.py:458] 2023-07-06 03:55:07,514 >> Configuration saved in /kaggle/working/tst-summarization/config.json\n",
      "[INFO|configuration_utils.py:375] 2023-07-06 03:55:07,514 >> Configuration saved in /kaggle/working/tst-summarization/generation_config.json\n",
      "[INFO|modeling_utils.py:1852] 2023-07-06 03:55:14,162 >> Model weights saved in /kaggle/working/tst-summarization/pytorch_model.bin\n",
      "[INFO|tokenization_utils_base.py:2215] 2023-07-06 03:55:14,166 >> tokenizer config file saved in /kaggle/working/tst-summarization/tokenizer_config.json\n",
      "[INFO|tokenization_utils_base.py:2222] 2023-07-06 03:55:14,167 >> Special tokens file saved in /kaggle/working/tst-summarization/special_tokens_map.json\n",
      "***** train metrics *****\n",
      "  epoch                    =       22.0\n",
      "  train_loss               =     0.3789\n",
      "  train_runtime            = 2:50:58.17\n",
      "  train_samples            =        923\n",
      "  train_samples_per_second =      1.979\n",
      "  train_steps_per_second   =      0.991\n",
      "[INFO|trainer.py:3092] 2023-07-06 03:55:14,887 >> ***** Running Evaluation *****\n",
      "[INFO|trainer.py:3094] 2023-07-06 03:55:14,887 >>   Num examples = 231\n",
      "[INFO|trainer.py:3097] 2023-07-06 03:55:14,887 >>   Batch size = 8\n",
      "100%|███████████████████████████████████████████| 29/29 [00:19<00:00,  1.45it/s]\n",
      "***** eval metrics *****\n",
      "  epoch                   =       22.0\n",
      "  eval_loss               =     2.0252\n",
      "  eval_runtime            = 0:00:20.44\n",
      "  eval_samples            =        231\n",
      "  eval_samples_per_second =     11.297\n",
      "  eval_steps_per_second   =      1.418\n",
      "[INFO|modelcard.py:452] 2023-07-06 03:55:35,460 >> Dropping the following result as it does not have all the necessary fields:\n",
      "{'task': {'name': 'Summarization', 'type': 'summarization'}}\n"
     ]
    }
   ],
   "source": [
    "!python /kaggle/working/transformers/examples/pytorch/summarization/run_summarization.py \\\n",
    "    --model_name_or_path 'facebook/mbart-large-50' \\\n",
    "    --do_train \\\n",
    "    --do_eval \\\n",
    "    --save_strategy \"no\" \\\n",
    "    --load_best_model_at_end True \\\n",
    "    --train_file 'train.csv' \\\n",
    "    --validation_file 'val.csv' \\\n",
    "    --output_dir 'tst-summarization' \\\n",
    "    --overwrite_output_dir \\\n",
    "    --text_column 'paragraph' \\\n",
    "    --summary_column 'summary' \\\n",
    "    --num_train_epochs 22 \\\n",
    "    --lang 'arabic' \\\n",
    "    --per_device_train_batch_size=1 \\\n",
    "    --per_device_eval_batch_size=4"
   ]
  },
  {
   "cell_type": "code",
   "execution_count": 25,
   "metadata": {
    "execution": {
     "iopub.execute_input": "2023-07-06T03:55:56.631475Z",
     "iopub.status.busy": "2023-07-06T03:55:56.631082Z",
     "iopub.status.idle": "2023-07-06T03:55:56.976065Z",
     "shell.execute_reply": "2023-07-06T03:55:56.975083Z",
     "shell.execute_reply.started": "2023-07-06T03:55:56.631443Z"
    }
   },
   "outputs": [],
   "source": [
    "from transformers import AutoTokenizer, AutoModelForSeq2SeqLM\n",
    "# specify the path to the saved model files\n",
    "model_path = \"tst-summarization\""
   ]
  },
  {
   "cell_type": "code",
   "execution_count": 26,
   "metadata": {
    "execution": {
     "iopub.execute_input": "2023-07-06T03:55:56.991171Z",
     "iopub.status.busy": "2023-07-06T03:55:56.990871Z",
     "iopub.status.idle": "2023-07-06T03:56:19.140152Z",
     "shell.execute_reply": "2023-07-06T03:56:19.139046Z",
     "shell.execute_reply.started": "2023-07-06T03:55:56.991144Z"
    }
   },
   "outputs": [],
   "source": [
    "#load the tokenizer from saved model \n",
    "tokenizer = AutoTokenizer.from_pretrained(model_path)\n",
    "#load the saved model\n",
    "model = AutoModelForSeq2SeqLM.from_pretrained(model_path)"
   ]
  },
  {
   "cell_type": "code",
   "execution_count": 20,
   "metadata": {
    "execution": {
     "iopub.execute_input": "2023-07-06T04:04:36.451121Z",
     "iopub.status.busy": "2023-07-06T04:04:36.450698Z",
     "iopub.status.idle": "2023-07-06T04:04:36.484488Z",
     "shell.execute_reply": "2023-07-06T04:04:36.483556Z",
     "shell.execute_reply.started": "2023-07-06T04:04:36.451089Z"
    }
   },
   "outputs": [],
   "source": [
    "#load validation data\n",
    "df2 = pd.read_json(\"preprocessed validation_data.jsonl\",lines=True)"
   ]
  },
  {
   "cell_type": "code",
   "execution_count": 21,
   "metadata": {
    "execution": {
     "iopub.execute_input": "2023-07-06T04:04:36.755480Z",
     "iopub.status.busy": "2023-07-06T04:04:36.754621Z",
     "iopub.status.idle": "2023-07-06T04:04:36.852415Z",
     "shell.execute_reply": "2023-07-06T04:04:36.851306Z",
     "shell.execute_reply.started": "2023-07-06T04:04:36.755436Z"
    }
   },
   "outputs": [
    {
     "name": "stderr",
     "output_type": "stream",
     "text": [
      "100%|██████████████████████████████████████████████████████████████████████████████| 272/272 [00:00<00:00, 4946.05it/s]\n"
     ]
    }
   ],
   "source": [
    "#preprosess the data\n",
    "df2['paragraph']=cleaner(df2['paragraph'])"
   ]
  },
  {
   "cell_type": "code",
   "execution_count": 11,
   "metadata": {},
   "outputs": [
    {
     "data": {
      "text/html": [
       "<div>\n",
       "<style scoped>\n",
       "    .dataframe tbody tr th:only-of-type {\n",
       "        vertical-align: middle;\n",
       "    }\n",
       "\n",
       "    .dataframe tbody tr th {\n",
       "        vertical-align: top;\n",
       "    }\n",
       "\n",
       "    .dataframe thead th {\n",
       "        text-align: right;\n",
       "    }\n",
       "</style>\n",
       "<table border=\"1\" class=\"dataframe\">\n",
       "  <thead>\n",
       "    <tr style=\"text-align: right;\">\n",
       "      <th></th>\n",
       "      <th>example_id</th>\n",
       "      <th>summary</th>\n",
       "    </tr>\n",
       "  </thead>\n",
       "  <tbody>\n",
       "    <tr>\n",
       "      <th>0</th>\n",
       "      <td>0</td>\n",
       "      <td>يبدأ الكاتب عرض الكتاب الرابع تحت عنوان من الك...</td>\n",
       "    </tr>\n",
       "    <tr>\n",
       "      <th>1</th>\n",
       "      <td>1</td>\n",
       "      <td>ولم يعترف دبلوماسيو الدولتين بالعريضة التي قام...</td>\n",
       "    </tr>\n",
       "    <tr>\n",
       "      <th>2</th>\n",
       "      <td>2</td>\n",
       "      <td>أعلن غورو الانتداب الفرنسي على سوريا لكي يعاقب...</td>\n",
       "    </tr>\n",
       "    <tr>\n",
       "      <th>3</th>\n",
       "      <td>3</td>\n",
       "      <td>مصر هي أم البلاد وقائدة العرب فهي أرض بلاد الن...</td>\n",
       "    </tr>\n",
       "    <tr>\n",
       "      <th>4</th>\n",
       "      <td>4</td>\n",
       "      <td>السوريون يصرون على استقلال بلدهم من السيطرة ال...</td>\n",
       "    </tr>\n",
       "  </tbody>\n",
       "</table>\n",
       "</div>"
      ],
      "text/plain": [
       "   example_id                                            summary\n",
       "0           0  يبدأ الكاتب عرض الكتاب الرابع تحت عنوان من الك...\n",
       "1           1  ولم يعترف دبلوماسيو الدولتين بالعريضة التي قام...\n",
       "2           2  أعلن غورو الانتداب الفرنسي على سوريا لكي يعاقب...\n",
       "3           3  مصر هي أم البلاد وقائدة العرب فهي أرض بلاد الن...\n",
       "4           4  السوريون يصرون على استقلال بلدهم من السيطرة ال..."
      ]
     },
     "execution_count": 11,
     "metadata": {},
     "output_type": "execute_result"
    }
   ],
   "source": [
    "df2.head()"
   ]
  },
  {
   "cell_type": "code",
   "execution_count": 23,
   "metadata": {
    "execution": {
     "iopub.execute_input": "2023-07-06T04:04:41.175130Z",
     "iopub.status.busy": "2023-07-06T04:04:41.174764Z",
     "iopub.status.idle": "2023-07-06T07:34:09.844522Z",
     "shell.execute_reply": "2023-07-06T07:34:09.843493Z",
     "shell.execute_reply.started": "2023-07-06T04:04:41.175101Z"
    }
   },
   "outputs": [],
   "source": [
    "#generate summary\n",
    "def generate_column_summary(text):\n",
    "    a=[]\n",
    "    for sen in tqdm(text):\n",
    "        #to make the min summary len >= 0.3 of the original text\n",
    "        x= int(0.08*len(sen))\n",
    "        #to make the max summary len <= 0.4 of the original text\n",
    "        y= int(0.4*len(sen))\n",
    "        input_ids = tokenizer.encode(sen, truncation=True, max_length=512, return_tensors=\"pt\")\n",
    "        generated_ids = model.generate(input_ids,min_length=x, max_length=y)\n",
    "        generated_title = tokenizer.decode(generated_ids[0], skip_special_tokens=True)\n",
    "        a.append(generated_title)\n",
    "    return a"
   ]
  },
  {
   "cell_type": "code",
   "execution_count": null,
   "metadata": {},
   "outputs": [],
   "source": [
    "a= generate_column_summary(df2['paragraph'])"
   ]
  },
  {
   "cell_type": "code",
   "execution_count": 64,
   "metadata": {},
   "outputs": [
    {
     "data": {
      "text/plain": [
       "'وبعد أن ألقينا الضوء على أهم فتوحات بلاد شمال إفريقيا تعال معا نتناول فتح سبيطلة بوصفها نموذجا لفتوحات هذه البلاد بشيء من التفصيل فتح سبيطلة ه م كتب عبد الله بن سعد بن أبي السرح إلى الخليفة الراشد عثمان بن عفان أنه يستأذنه في فتح سبيطلة فأجابهم للفتح وواصل عبد الله بن سعد السير حتى وصل جيشه إلى مدينة سبيطلة بأمان ثم التقى بجيش جريجوريوس جرجير والي إفريقية البيزنطي وعرض عليه إما الدخول في الإسلام أو دفع الجزية فنشبت المعركة بينهما وفتحت سبيطلة وانتصر المسلمون'"
      ]
     },
     "execution_count": 64,
     "metadata": {},
     "output_type": "execute_result"
    }
   ],
   "source": [
    "df2['summary'][3]"
   ]
  },
  {
   "cell_type": "code",
   "execution_count": 68,
   "metadata": {
    "execution": {
     "iopub.execute_input": "2023-07-05T23:14:33.032858Z",
     "iopub.status.busy": "2023-07-05T23:14:33.031850Z",
     "iopub.status.idle": "2023-07-05T23:14:33.040722Z",
     "shell.execute_reply": "2023-07-05T23:14:33.039811Z",
     "shell.execute_reply.started": "2023-07-05T23:14:33.032825Z"
    }
   },
   "outputs": [
    {
     "data": {
      "text/plain": [
       "181"
      ]
     },
     "execution_count": 68,
     "metadata": {},
     "output_type": "execute_result"
    }
   ],
   "source": [
    "len(a[4])"
   ]
  },
  {
   "cell_type": "code",
   "execution_count": 69,
   "metadata": {
    "execution": {
     "iopub.execute_input": "2023-07-05T23:14:45.693963Z",
     "iopub.status.busy": "2023-07-05T23:14:45.693249Z",
     "iopub.status.idle": "2023-07-05T23:14:45.699409Z",
     "shell.execute_reply": "2023-07-05T23:14:45.698296Z",
     "shell.execute_reply.started": "2023-07-05T23:14:45.693918Z"
    }
   },
   "outputs": [
    {
     "name": "stdout",
     "output_type": "stream",
     "text": [
      "194.4\n"
     ]
    }
   ],
   "source": [
    "print(len(df2['paragraph'][4])*0.4)"
   ]
  },
  {
   "cell_type": "code",
   "execution_count": 70,
   "metadata": {
    "execution": {
     "iopub.execute_input": "2023-07-06T07:41:22.481752Z",
     "iopub.status.busy": "2023-07-06T07:41:22.481319Z",
     "iopub.status.idle": "2023-07-06T07:41:22.489375Z",
     "shell.execute_reply": "2023-07-06T07:41:22.488256Z",
     "shell.execute_reply.started": "2023-07-06T07:41:22.481720Z"
    }
   },
   "outputs": [],
   "source": [
    "#save generated summary into data frame\n",
    "df2['summary']=a"
   ]
  },
  {
   "cell_type": "code",
   "execution_count": 43,
   "metadata": {},
   "outputs": [
    {
     "data": {
      "image/png": "[encoded data removed]",
      "text/plain": [
       "<Figure size 432x288 with 1 Axes>"
      ]
     },
     "metadata": {
      "needs_background": "light"
     },
     "output_type": "display_data"
    }
   ],
   "source": [
    "plt.plot(df2['paragraph'].str.len(), label='paragraph')\n",
    "plt.plot(df2['summary'].str.len(), label='summary')\n",
    "plt.plot(df2['paragraph'].str.len()*0.3, label='min len')\n",
    "plt.plot(df2['paragraph'].str.len()*0.4, label='max len')\n",
    "plt.title('Summary to Paragraph Ratio')\n",
    "plt.ylabel('text lenght')\n",
    "plt.xlabel('sen')\n",
    "plt.legend()\n",
    "plt.show()"
   ]
  },
  {
   "cell_type": "code",
   "execution_count": null,
   "metadata": {},
   "outputs": [],
   "source": [
    "df2.drop('paragraph',inplace=True,axis=1)"
   ]
  },
  {
   "cell_type": "code",
   "execution_count": 71,
   "metadata": {
    "execution": {
     "iopub.execute_input": "2023-07-06T07:43:40.589452Z",
     "iopub.status.busy": "2023-07-06T07:43:40.589061Z",
     "iopub.status.idle": "2023-07-06T07:43:40.598271Z",
     "shell.execute_reply": "2023-07-06T07:43:40.597306Z",
     "shell.execute_reply.started": "2023-07-06T07:43:40.589421Z"
    }
   },
   "outputs": [],
   "source": [
    "#convert data frame to .jsonl file\n",
    "df2.to_json(\"predictions.jsonl\", lines=True, orient='records', force_ascii=False)"
   ]
  },
  {
   "cell_type": "code",
   "execution_count": 52,
   "metadata": {},
   "outputs": [],
   "source": [
    "def sen_cleaner(sen):\n",
    "    #convert arabic numbers to en numbers\n",
    "    sen=sen.translate(translation_table)\n",
    "    #keep only arabic text\n",
    "    sen = regex.sub(r\"[^\\p{Script=Arabic}\\s.,]\", \"\", sen)\n",
    "    #remove \"ـ\"\n",
    "    sen = sen.replace(\"ـ\", \"\")\n",
    "    #remove '.' from text\n",
    "    sen = sen.replace(\".\", \"\")\n",
    "    #remove dublicated spaces\n",
    "    sen = re.sub(r\"\\s+\", \" \", sen)\n",
    "    return sen"
   ]
  },
  {
   "cell_type": "code",
   "execution_count": 53,
   "metadata": {},
   "outputs": [],
   "source": [
    "def generate_text_summary(sen):\n",
    "    text=sen\n",
    "    sen=sen_cleaner(text)\n",
    "    #to make the min summary len >= 0.3 of the original text\n",
    "    x= int(0.08*len(sen))\n",
    "    #to make the min summary len <= 0.4 of the original text\n",
    "    y= int(0.4*len(sen))\n",
    "    input_ids = tokenizer.encode(sen, truncation=True, max_length=512, return_tensors=\"pt\")\n",
    "    generated_ids = model.generate(input_ids,min_length=x, max_length=y)\n",
    "    generated_title = tokenizer.decode(generated_ids[0], skip_special_tokens=True)\n",
    "    return generated_title"
   ]
  },
  {
   "cell_type": "code",
   "execution_count": 33,
   "metadata": {},
   "outputs": [
    {
     "data": {
      "text/plain": [
       "'يبدأ الكاتب عرض الكتاب الرابع تحت عنوان من الكارثة إلى التحدى حيث يوضح كيف كانت إسرائيل فرحة بنصرها عام وكيف بدأت حرب الاستنزاف ثم يتكلم عن وفاة عبدالناصر وتولى أنور السادات حكم مصر ويعرض الكاتب للخطط والاستعدادات المصرية ثم الاستعدادات الإسرائيلية ثم يبدأ بعرض وقائع الحرب ويتوقف الكاتب عند يوم أكتوبر ويقول إن هذا اليوم كان أسوأ هزيمة فى تاريخ الجيش الإسرائيلى ثم ينتقل بنا إلى الجبهة السورية ثم يعود ثانية إلى يوميات الحرب من أكتوبر إلى و أكتوبر والعمليات النهائية فى سوريا إلى أكتوبر ثم يعرض الكاتب المعركة الخاصة بالاستيلاء على مدينة السويس من أكتوبر إلى أكتوبر ثم تطورات هذه المعركة'"
      ]
     },
     "execution_count": 33,
     "metadata": {},
     "output_type": "execute_result"
    }
   ],
   "source": [
    "generate_text_summary(df['paragraph'][0])"
   ]
  },
  {
   "cell_type": "code",
   "execution_count": 54,
   "metadata": {},
   "outputs": [
    {
     "name": "stdout",
     "output_type": "stream",
     "text": [
      "Running on local URL:  http://127.0.0.1:7861\n",
      "\n",
      "To create a public link, set `share=True` in `launch()`.\n"
     ]
    },
    {
     "data": {
      "text/html": [
       "<div><iframe src=\"http://127.0.0.1:7861/\" width=\"100%\" height=\"500\" allow=\"autoplay; camera; microphone; clipboard-read; clipboard-write;\" frameborder=\"0\" allowfullscreen></iframe></div>"
      ],
      "text/plain": [
       "<IPython.core.display.HTML object>"
      ]
     },
     "metadata": {},
     "output_type": "display_data"
    },
    {
     "data": {
      "text/plain": []
     },
     "execution_count": 54,
     "metadata": {},
     "output_type": "execute_result"
    }
   ],
   "source": [
    "gr.Interface(fn=generate_text_summary, inputs=[\"text\"], outputs= \"text\").launch()"
   ]
  },
  {
   "cell_type": "code",
   "execution_count": null,
   "metadata": {},
   "outputs": [],
   "source": []
  }
 ],
 "metadata": {
  "accelerator": "GPU",
  "colab": {
   "gpuType": "T4",
   "provenance": []
  },
  "kernelspec": {
   "display_name": "Python 3 (ipykernel)",
   "language": "python",
   "name": "python3"
  },
  "language_info": {
   "codemirror_mode": {
    "name": "ipython",
    "version": 3
   },
   "file_extension": ".py",
   "mimetype": "text/x-python",
   "name": "python",
   "nbconvert_exporter": "python",
   "pygments_lexer": "ipython3",
   "version": "3.9.12"
  }
 },
 "nbformat": 4,
 "nbformat_minor": 4
}
